{
 "cells": [
  {
   "cell_type": "code",
   "execution_count": 90,
   "metadata": {},
   "outputs": [],
   "source": [
    "############French_Door_Type_#############"
   ]
  },
  {
   "cell_type": "code",
   "execution_count": 27,
   "metadata": {},
   "outputs": [
    {
     "name": "stdout",
     "output_type": "stream",
     "text": [
      "{u'Errors': [], u'HasErrors': False, u'Locale': u'en_US', u'Results': [{u'ProductStatistics': {u'ReviewStatistics': {u'OverallRatingRange': 5, u'TotalReviewCount': 4, u'AverageOverallRating': 2.5}, u'NativeReviewStatistics': {}, u'ProductId': u'RF50K5910DP_TL'}}, {u'ProductStatistics': {u'ReviewStatistics': {u'OverallRatingRange': 5, u'TotalReviewCount': 67, u'AverageOverallRating': 4.3433}, u'NativeReviewStatistics': {}, u'ProductId': u'RF28K9380SG_TL'}}, {u'ProductStatistics': {u'ReviewStatistics': {u'OverallRatingRange': 5, u'TotalReviewCount': 8, u'AverageOverallRating': 3.625}, u'NativeReviewStatistics': {}, u'ProductId': u'RF28N9780SG_TL'}}, {u'ProductStatistics': {u'ReviewStatistics': {u'OverallRatingRange': 5, u'TotalReviewCount': 0, u'AverageOverallRating': None}, u'NativeReviewStatistics': {}, u'ProductId': u'RF50K5910B1_TL'}}, {u'ProductStatistics': {u'ReviewStatistics': {u'OverallRatingRange': 5, u'TotalReviewCount': 0, u'AverageOverallRating': None}, u'NativeReviewStatistics': {}, u'ProductId': u'RF56K9040DP_TL'}}, {u'ProductStatistics': {u'ReviewStatistics': {u'OverallRatingRange': 5, u'TotalReviewCount': 0, u'AverageOverallRating': None}, u'NativeReviewStatistics': {}, u'ProductId': u'RF50K5910SL_TL'}}, {u'ProductStatistics': {u'ReviewStatistics': {u'OverallRatingRange': 5, u'TotalReviewCount': 1, u'AverageOverallRating': 5.0}, u'NativeReviewStatistics': {}, u'ProductId': u'RF60J9090SL_TL'}}], u'Includes': {}, u'Limit': 7, u'Offset': 0, u'TotalResults': 7}\n"
     ]
    }
   ],
   "source": [
    "import urllib, json\n",
    "url = \"https://api.bazaarvoice.com/data/statistics.json?apiversion=5.4&passkey=caGz3Lh4mJONU0X59qHTQJCG7XsK4b37wJcZLfsOcz8gE&stats=Reviews&filter=ContentLocale:en_IN,en*&filter=ProductId:rf28n9780sg_tl,rf50k5910dp_tl,rf60j9090sl_tl,rf28k9380sg_tl,rf56k9040dp_tl,rf50k5910sl_tl,rf50k5910b1_tl\"\n",
    "response = urllib.urlopen(url)\n",
    "json_data = json.loads(response.read())\n",
    "#r = request.get(url,)\n",
    "print data"
   ]
  },
  {
   "cell_type": "code",
   "execution_count": 28,
   "metadata": {},
   "outputs": [
    {
     "data": {
      "text/plain": [
       "{u'Errors': [],\n",
       " u'HasErrors': False,\n",
       " u'Includes': {},\n",
       " u'Limit': 7,\n",
       " u'Locale': u'en_US',\n",
       " u'Offset': 0,\n",
       " u'Results': [{u'ProductStatistics': {u'NativeReviewStatistics': {},\n",
       "    u'ProductId': u'RF50K5910DP_TL',\n",
       "    u'ReviewStatistics': {u'AverageOverallRating': 2.5,\n",
       "     u'OverallRatingRange': 5,\n",
       "     u'TotalReviewCount': 4}}},\n",
       "  {u'ProductStatistics': {u'NativeReviewStatistics': {},\n",
       "    u'ProductId': u'RF28K9380SG_TL',\n",
       "    u'ReviewStatistics': {u'AverageOverallRating': 4.3433,\n",
       "     u'OverallRatingRange': 5,\n",
       "     u'TotalReviewCount': 67}}},\n",
       "  {u'ProductStatistics': {u'NativeReviewStatistics': {},\n",
       "    u'ProductId': u'RF28N9780SG_TL',\n",
       "    u'ReviewStatistics': {u'AverageOverallRating': 3.625,\n",
       "     u'OverallRatingRange': 5,\n",
       "     u'TotalReviewCount': 8}}},\n",
       "  {u'ProductStatistics': {u'NativeReviewStatistics': {},\n",
       "    u'ProductId': u'RF50K5910B1_TL',\n",
       "    u'ReviewStatistics': {u'AverageOverallRating': None,\n",
       "     u'OverallRatingRange': 5,\n",
       "     u'TotalReviewCount': 0}}},\n",
       "  {u'ProductStatistics': {u'NativeReviewStatistics': {},\n",
       "    u'ProductId': u'RF56K9040DP_TL',\n",
       "    u'ReviewStatistics': {u'AverageOverallRating': None,\n",
       "     u'OverallRatingRange': 5,\n",
       "     u'TotalReviewCount': 0}}},\n",
       "  {u'ProductStatistics': {u'NativeReviewStatistics': {},\n",
       "    u'ProductId': u'RF50K5910SL_TL',\n",
       "    u'ReviewStatistics': {u'AverageOverallRating': None,\n",
       "     u'OverallRatingRange': 5,\n",
       "     u'TotalReviewCount': 0}}},\n",
       "  {u'ProductStatistics': {u'NativeReviewStatistics': {},\n",
       "    u'ProductId': u'RF60J9090SL_TL',\n",
       "    u'ReviewStatistics': {u'AverageOverallRating': 5.0,\n",
       "     u'OverallRatingRange': 5,\n",
       "     u'TotalReviewCount': 1}}}],\n",
       " u'TotalResults': 7}"
      ]
     },
     "execution_count": 28,
     "metadata": {},
     "output_type": "execute_result"
    }
   ],
   "source": [
    "json_data"
   ]
  },
  {
   "cell_type": "code",
   "execution_count": 29,
   "metadata": {},
   "outputs": [
    {
     "name": "stdout",
     "output_type": "stream",
     "text": [
      "[u'Errors', u'HasErrors', u'Locale', u'Results', u'Includes', u'Limit', u'Offset', u'TotalResults']\n"
     ]
    }
   ],
   "source": [
    "print json_data.keys()"
   ]
  },
  {
   "cell_type": "code",
   "execution_count": 43,
   "metadata": {},
   "outputs": [
    {
     "data": {
      "text/plain": [
       "[{u'ProductStatistics': {u'NativeReviewStatistics': {},\n",
       "   u'ProductId': u'RF50K5910DP_TL',\n",
       "   u'ReviewStatistics': {u'AverageOverallRating': 2.5,\n",
       "    u'OverallRatingRange': 5,\n",
       "    u'TotalReviewCount': 4}}},\n",
       " {u'ProductStatistics': {u'NativeReviewStatistics': {},\n",
       "   u'ProductId': u'RF28K9380SG_TL',\n",
       "   u'ReviewStatistics': {u'AverageOverallRating': 4.3433,\n",
       "    u'OverallRatingRange': 5,\n",
       "    u'TotalReviewCount': 67}}},\n",
       " {u'ProductStatistics': {u'NativeReviewStatistics': {},\n",
       "   u'ProductId': u'RF28N9780SG_TL',\n",
       "   u'ReviewStatistics': {u'AverageOverallRating': 3.625,\n",
       "    u'OverallRatingRange': 5,\n",
       "    u'TotalReviewCount': 8}}},\n",
       " {u'ProductStatistics': {u'NativeReviewStatistics': {},\n",
       "   u'ProductId': u'RF50K5910B1_TL',\n",
       "   u'ReviewStatistics': {u'AverageOverallRating': None,\n",
       "    u'OverallRatingRange': 5,\n",
       "    u'TotalReviewCount': 0}}},\n",
       " {u'ProductStatistics': {u'NativeReviewStatistics': {},\n",
       "   u'ProductId': u'RF56K9040DP_TL',\n",
       "   u'ReviewStatistics': {u'AverageOverallRating': None,\n",
       "    u'OverallRatingRange': 5,\n",
       "    u'TotalReviewCount': 0}}},\n",
       " {u'ProductStatistics': {u'NativeReviewStatistics': {},\n",
       "   u'ProductId': u'RF50K5910SL_TL',\n",
       "   u'ReviewStatistics': {u'AverageOverallRating': None,\n",
       "    u'OverallRatingRange': 5,\n",
       "    u'TotalReviewCount': 0}}},\n",
       " {u'ProductStatistics': {u'NativeReviewStatistics': {},\n",
       "   u'ProductId': u'RF60J9090SL_TL',\n",
       "   u'ReviewStatistics': {u'AverageOverallRating': 5.0,\n",
       "    u'OverallRatingRange': 5,\n",
       "    u'TotalReviewCount': 1}}}]"
      ]
     },
     "execution_count": 43,
     "metadata": {},
     "output_type": "execute_result"
    }
   ],
   "source": [
    "json_data['Results']"
   ]
  },
  {
   "cell_type": "code",
   "execution_count": 60,
   "metadata": {},
   "outputs": [
    {
     "data": {
      "text/plain": [
       "u'RF50K5910DP_TL'"
      ]
     },
     "execution_count": 60,
     "metadata": {},
     "output_type": "execute_result"
    }
   ],
   "source": [
    "json_data['Results'][0]['ProductStatistics']['ProductId']"
   ]
  },
  {
   "cell_type": "code",
   "execution_count": 80,
   "metadata": {},
   "outputs": [],
   "source": [
    "####Product_Id_###############"
   ]
  },
  {
   "cell_type": "code",
   "execution_count": 76,
   "metadata": {},
   "outputs": [],
   "source": [
    "count=0"
   ]
  },
  {
   "cell_type": "code",
   "execution_count": 79,
   "metadata": {},
   "outputs": [
    {
     "name": "stdout",
     "output_type": "stream",
     "text": [
      "RF50K5910DP_TL\n",
      "RF28K9380SG_TL\n",
      "RF28N9780SG_TL\n",
      "RF50K5910B1_TL\n",
      "RF56K9040DP_TL\n",
      "RF50K5910SL_TL\n",
      "RF60J9090SL_TL\n"
     ]
    }
   ],
   "source": [
    "for z in range(0,7):\n",
    "    xxx=json_data['Results'][z]['ProductStatistics']['ProductId']\n",
    "    count=count+1\n",
    "    #print count\n",
    "    print xxx"
   ]
  },
  {
   "cell_type": "code",
   "execution_count": 87,
   "metadata": {},
   "outputs": [
    {
     "name": "stdout",
     "output_type": "stream",
     "text": [
      "{u'OverallRatingRange': 5, u'TotalReviewCount': 4, u'AverageOverallRating': 2.5}\n",
      "{u'OverallRatingRange': 5, u'TotalReviewCount': 67, u'AverageOverallRating': 4.3433}\n",
      "{u'OverallRatingRange': 5, u'TotalReviewCount': 8, u'AverageOverallRating': 3.625}\n",
      "{u'OverallRatingRange': 5, u'TotalReviewCount': 0, u'AverageOverallRating': None}\n",
      "{u'OverallRatingRange': 5, u'TotalReviewCount': 0, u'AverageOverallRating': None}\n",
      "{u'OverallRatingRange': 5, u'TotalReviewCount': 0, u'AverageOverallRating': None}\n",
      "{u'OverallRatingRange': 5, u'TotalReviewCount': 1, u'AverageOverallRating': 5}\n"
     ]
    }
   ],
   "source": [
    "for z in range(0,7):\n",
    "    xxx=json_data['Results'][z]['ProductStatistics']['ReviewStatistics']\n",
    "    count=count+1\n",
    "    #print count\n",
    "    print xxx"
   ]
  },
  {
   "cell_type": "code",
   "execution_count": 88,
   "metadata": {},
   "outputs": [
    {
     "name": "stdout",
     "output_type": "stream",
     "text": [
      "4\n",
      "67\n",
      "8\n",
      "0\n",
      "0\n",
      "0\n",
      "1\n"
     ]
    }
   ],
   "source": [
    "for z in range(0,7):\n",
    "    xxx=json_data['Results'][z]['ProductStatistics']['ReviewStatistics']['TotalReviewCount']\n",
    "    count=count+1\n",
    "    #print count\n",
    "    print xxx"
   ]
  },
  {
   "cell_type": "code",
   "execution_count": 89,
   "metadata": {},
   "outputs": [],
   "source": [
    "############Side_BY_SIDE_#################"
   ]
  },
  {
   "cell_type": "code",
   "execution_count": 6,
   "metadata": {},
   "outputs": [],
   "source": [
    "import urllib, json\n",
    "url = \"https://api.bazaarvoice.com/data/statistics.json?apiversion=5.4&passkey=caGz3Lh4mJONU0X59qHTQJCG7XsK4b37wJcZLfsOcz8gE&stats=Reviews&filter=ContentLocale:en_IN,en*&filter=ProductId:rf50k5910b1/tl,rf50k5910sl/tl,rf56k9040dp/tl,rf50k5910dp/tl,rf28k9380sg/tl,rf28n9780sg/tl\"\n",
    "response = urllib.urlopen(url)\n",
    "json_data = json.loads(response.read())\n",
    "#r = request.get(url,)\n",
    "#print data"
   ]
  },
  {
   "cell_type": "code",
   "execution_count": 3,
   "metadata": {},
   "outputs": [
    {
     "data": {
      "text/plain": [
       "{u'Errors': [],\n",
       " u'HasErrors': False,\n",
       " u'Includes': {},\n",
       " u'Limit': 6,\n",
       " u'Locale': u'en_US',\n",
       " u'Offset': 0,\n",
       " u'Results': [],\n",
       " u'TotalResults': 0}"
      ]
     },
     "execution_count": 3,
     "metadata": {},
     "output_type": "execute_result"
    }
   ],
   "source": [
    "json_data"
   ]
  },
  {
   "cell_type": "code",
   "execution_count": 95,
   "metadata": {},
   "outputs": [
    {
     "name": "stdout",
     "output_type": "stream",
     "text": [
      "RS554NRUA9M_TL\n",
      "RS51K5460SL_TL\n",
      "RS552NRUA7E_TL\n",
      "RS62K60A7SL_TL\n",
      "RS62K6007S8_TL\n",
      "RS55K50A02C_TL\n",
      "RS51K56H02A_TL\n",
      "RS62K6007FG_TL\n",
      "RS51K54F01J_TL\n",
      "RS58K6417SL_TL\n",
      "RS55K52A01J_TL\n",
      "RS55K5010S9_TL\n"
     ]
    }
   ],
   "source": [
    "for z in range(0,12):\n",
    "    xxx=json_data['Results'][z]['ProductStatistics']['ProductId']\n",
    "    count=count+1\n",
    "    #print count\n",
    "    print xxx"
   ]
  },
  {
   "cell_type": "code",
   "execution_count": 96,
   "metadata": {},
   "outputs": [
    {
     "name": "stdout",
     "output_type": "stream",
     "text": [
      "2\n",
      "1\n",
      "7\n",
      "0\n",
      "1\n",
      "0\n",
      "2\n",
      "3\n",
      "1\n",
      "3\n",
      "0\n",
      "0\n"
     ]
    }
   ],
   "source": [
    "for z in range(0,12):\n",
    "    xxx=json_data['Results'][z]['ProductStatistics']['ReviewStatistics']['TotalReviewCount']\n",
    "    count=count+1\n",
    "    #print count\n",
    "    print xxx"
   ]
  },
  {
   "cell_type": "code",
   "execution_count": null,
   "metadata": {},
   "outputs": [],
   "source": []
  }
 ],
 "metadata": {
  "kernelspec": {
   "display_name": "Python 2",
   "language": "python",
   "name": "python2"
  },
  "language_info": {
   "codemirror_mode": {
    "name": "ipython",
    "version": 2
   },
   "file_extension": ".py",
   "mimetype": "text/x-python",
   "name": "python",
   "nbconvert_exporter": "python",
   "pygments_lexer": "ipython2",
   "version": "2.7.15"
  }
 },
 "nbformat": 4,
 "nbformat_minor": 2
}
