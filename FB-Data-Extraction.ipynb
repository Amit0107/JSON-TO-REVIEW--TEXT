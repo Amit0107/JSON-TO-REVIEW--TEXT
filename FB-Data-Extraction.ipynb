{
 "cells": [
  {
   "cell_type": "code",
   "execution_count": 1,
   "metadata": {},
   "outputs": [
    {
     "name": "stdout",
     "output_type": "stream",
     "text": [
      "{u'feed': {u'paging': {u'cursors': {u'after': u'Q2c4U1pXNTBYM0YxWlhKNVgzTjBiM0o1WDJsa0R5TTBOREU1TVRneU16VTVOamcyTlRRNk9EQTFPREF5T0RNMU1UQXpOVEE1TVRVM05nOE1ZAWEJwWDNOMGIzSjVYMmxrRHg4ME5ERTVNVGd5TXpVNU5qZAzJOVFJmTnpNME1EZA3dNell3TURnMU56Y3lEd1IwYVcxbEJsakNvRmtC', u'before': u'Q2c4U1pXNTBYM0YxWlhKNVgzTjBiM0o1WDJsa0R5UTBOREU1TVRneU16VTVOamcyTlRRNkxUUTRPRFl3TWpJeE9UQTFOREE0TlRRMU1qY1BER0ZA3YVY5emRHOXllVjlwWkE4ZA05EUXhPVEU0TWpNMU9UWTROalUwWHpFeE1UQTFNVGt5TWpVM056VXlNVFVQQkhScGJXVUdYQ3BnS1FFPQZDZD'}, u'next': u'https://graph.facebook.com/v3.0/441918235968654/feed?access_token=EAAKHIpZBSTYwBAATrLY9gpy9p6I1O5OL1aXkVfXL5ZAiwPEyUk4ljE7wRnmqQeWcX4R1lkAytszPZBfyIvzWxOj0hkSI4PZAw8oV2GKmdEql0ea4W4UGeSSZA393tUCYrnjKeflQEFFuV689pDBCzO7DTZA9XZBwEpJZB6ekGvy6FAoEYktQZACbZBsNZBOXj0KjaoZBsLS1wdPtFQZDZD&fields=message%2Ccreated_time&limit=25&after=Q2c4U1pXNTBYM0YxWlhKNVgzTjBiM0o1WDJsa0R5TTBOREU1TVRneU16VTVOamcyTlRRNk9EQTFPREF5T0RNMU1UQXpOVEE1TVRVM05nOE1ZAWEJwWDNOMGIzSjVYMmxrRHg4ME5ERTVNVGd5TXpVNU5qZAzJOVFJmTnpNME1EZA3dNell3TURnMU56Y3lEd1IwYVcxbEJsakNvRmtC'}, u'data': [{u'created_time': u'2018-12-31T18:30:01+0000', u'message': u'Wish you happy and a prosperous 2019!\\n\\nBeing an A.I. company means we walk, talk, eat, drink, sleep, listen and live in Sentiments and Emotions', u'id': u'441918235968654_1110519225775215'}, {u'created_time': u'2018-11-06T03:39:13+0000', u'message': u'We at Enixta had a great Diwali this year. Wishing you all a Happy and Safe Diwali!', u'id': u'441918235968654_1075740472586424'}, {u'created_time': u'2018-09-13T01:31:00+0000', u'message': u'Wish you and your family a Happy and blessed Ganesh Chaturthi!', u'id': u'441918235968654_1044339822393156'}, {u'created_time': u'2018-08-09T06:12:12+0000', u'message': u'4 years ago, all we had was a dream!\\n\\nAnd now we can proudly say,\\nwe have relentlessly pursued that dream, \\npersevered and tasted sweet success.\\n\\nWe are here for long, here for good and\\nwe couldnt have reached this far without \\nyour support and encouragement!\\n\\nThank you for being with us!', u'id': u'441918235968654_1016154895211649'}, {u'created_time': u'2018-01-26T05:55:55+0000', u'message': u'Its already a happy republic day for us, as we welcome onboard Flipkart, MARS and Biophore\\nas our customers!', u'id': u'441918235968654_889007127926427'}, {u'created_time': u'2018-01-14T14:01:45+0000', u'message': u'Happy Pongal!', u'id': u'441918235968654_882627468564393'}, {u'created_time': u'2018-01-01T18:23:10+0000', u'id': u'441918235968654_876488995844907'}, {u'created_time': u'2017-12-31T03:02:54+0000', u'message': u'May 2018 bring you lots of opportunities and successes!', u'id': u'441918235968654_875573529269787'}, {u'created_time': u'2017-12-31T02:59:53+0000', u'message': u'May 2018 bring you lots of opportunities and successes!', u'id': u'441918235968654_875572895936517'}, {u'created_time': u'2017-12-24T09:06:35+0000', u'id': u'441918235968654_872399176253889'}, {u'created_time': u'2017-12-24T09:05:25+0000', u'message': u'Wish you a Merry Christmas! \\U0001f385\\U0001f384\\U0001f98c\\U0001f381', u'id': u'441918235968654_872398916253915'}, {u'created_time': u'2017-11-27T05:43:40+0000', u'message': u\"3 of the world's largest consumer and retail brands have chosen us as their technology partner!\\n\\nOur suite of products: Smaartpulse | Smaartsearch | Smaartbot | Smaartsense | Smaartsight\\n\\nWrite to us on inbound@enixta.com to know more about enixta or our products.\", u'id': u'441918235968654_859623400864800'}, {u'created_time': u'2017-11-23T10:14:40+0000', u'message': u'Happy thanksgiving!\\n\\nFrom our team @Enixta, Smaarten - our AI bot and buysmaart', u'id': u'441918235968654_857913111035829'}, {u'created_time': u'2017-10-24T09:40:34+0000', u'message': u'With shine of Diyas, the Echo of Chants and surprise gifts\\u2026 Diwali Celebration #Enixta #Buysmaart #festivaloflights', u'id': u'441918235968654_844611475699326'}, {u'created_time': u'2017-10-17T10:41:45+0000', u'message': u'Wish you all a Happy and Safe Diwali!!', u'id': u'441918235968654_841078762719264'}, {u'created_time': u'2017-08-25T01:31:36+0000', u'message': u'Ganesha sure brings us fortune, when India\\u2019s largest home-grown E-tailer uses our technology to delight customers!\\n\\nHappy Ganesh Chaturthi everyone!', u'id': u'441918235968654_818581728302301'}, {u'created_time': u'2017-08-10T06:59:38+0000', u'message': u'We use different technologies that we have patented to analyse data and provide useful insights. The technologies range from chatbots to ML to NLP.\\n\\n- says our CEO, Giri Devanathan in a special interview to Telangana Today!\\n\\nRead the entire interview here:\\nhttps://telanganatoday.com/hyderabad-based-startup-enixta-provide-insights-products', u'id': u'441918235968654_812126725614468'}, {u'created_time': u'2017-08-06T13:51:19+0000', u'id': u'441918235968654_810362319124242'}, {u'created_time': u'2017-08-06T09:39:11+0000', u'message': u'ENIXTA (our parent company) turns 3 today!\\n\\nIts been one hell of a ride so far and we are all geared up for another year of an adventurous journey towards resounding success and growth...Happy 3rd birthday\\n\\nCheers!', u'id': u'441918235968654_810282569132217'}, {u'created_time': u'2017-08-03T22:56:10+0000', u'id': u'441918235968654_809270542566753'}, {u'created_time': u'2017-08-03T14:48:25+0000', u'message': u'smarthpone adaptability report: http://economictimes.indiatimes.com/small-biz/security-tech/technology/quantifying-growth-of-smartphone-adoption-in-india/articleshow/59892542.cms', u'id': u'441918235968654_809130375914103'}, {u'created_time': u'2017-08-03T11:58:39+0000', u'message': u\"Enixta Innovations (our parent company) is proud to have associated with Internet and Mobile Association of India (IAMAI) in the making and publishing of the report titled:\\n\\n'Indian Mobile Phone market: Emerging Opportunities for fulfilling India's Digital Economy Dream' ! \\n\\nWe thank the The Economic Times for covering the release of the report!\", u'id': u'441918235968654_809066235920517'}, {u'created_time': u'2017-04-18T13:33:29+0000', u'message': u\"I understand it's hard to adjust the Sun's temperature with the universal remote for now until then try out the list of Top 5 ACs we got for you:\\n\\nhttp://www.buysmaart.com/articles/top5acs/\", u'id': u'441918235968654_756141361213005'}, {u'created_time': u'2017-03-14T13:28:48+0000', u'message': u'Get more value for your money. Check out the buysmaart rating of these smartphones based on their performance, price and more:\\n\\nhttps://medium.com/@sindhujab/less-price-more-value-357a4da01453#.yujn0rdis', u'id': u'441918235968654_736367853190356'}, {u'created_time': u'2017-03-10T12:47:21+0000', u'message': u'Best article to understand the true potential in rural India.\\n\\nhttps://medium.com/@sindhujab/the-true-potential-of-digital-india-f9e041faa4ab#.dsrwjvyqu', u'id': u'441918235968654_734080360085772'}]}, u'id': u'441918235968654', u'name': u'buysmaart'}\n"
     ]
    }
   ],
   "source": [
    "import urllib, json\n",
    "url = \"https://graph.facebook.com/me?fields=id,name,feed{message,created_time}&access_token=EAAKHIpZBSTYwBAATrLY9gpy9p6I1O5OL1aXkVfXL5ZAiwPEyUk4ljE7wRnmqQeWcX4R1lkAytszPZBfyIvzWxOj0hkSI4PZAw8oV2GKmdEql0ea4W4UGeSSZA393tUCYrnjKeflQEFFuV689pDBCzO7DTZA9XZBwEpJZB6ekGvy6FAoEYktQZACbZBsNZBOXj0KjaoZBsLS1wdPtFQZDZD\"\n",
    "response = urllib.urlopen(url)\n",
    "data = json.loads(response.read())\n",
    "#r = request.get(url,)\n",
    "print data"
   ]
  },
  {
   "cell_type": "code",
   "execution_count": 2,
   "metadata": {},
   "outputs": [
    {
     "name": "stdout",
     "output_type": "stream",
     "text": [
      "[u'feed', u'id', u'name']\n"
     ]
    }
   ],
   "source": [
    "print data.keys()"
   ]
  },
  {
   "cell_type": "code",
   "execution_count": 48,
   "metadata": {},
   "outputs": [],
   "source": [
    "count=0"
   ]
  },
  {
   "cell_type": "code",
   "execution_count": 56,
   "metadata": {},
   "outputs": [
    {
     "name": "stdout",
     "output_type": "stream",
     "text": [
      "55\n",
      "Wish you happy and a prosperous 2019!\n",
      "\n",
      "Being an A.I. company means we walk, talk, eat, drink, sleep, listen and live in Sentiments and Emotions\n",
      "56\n",
      "We at Enixta had a great Diwali this year. Wishing you all a Happy and Safe Diwali!\n",
      "57\n",
      "Wish you and your family a Happy and blessed Ganesh Chaturthi!\n",
      "58\n",
      "4 years ago, all we had was a dream!\n",
      "\n",
      "And now we can proudly say,\n",
      "we have relentlessly pursued that dream, \n",
      "persevered and tasted sweet success.\n",
      "\n",
      "We are here for long, here for good and\n",
      "we couldnt have reached this far without \n",
      "your support and encouragement!\n",
      "\n",
      "Thank you for being with us!\n",
      "59\n",
      "Its already a happy republic day for us, as we welcome onboard Flipkart, MARS and Biophore\n",
      "as our customers!\n",
      "60\n",
      "Happy Pongal!\n"
     ]
    },
    {
     "ename": "KeyError",
     "evalue": "'message'",
     "output_type": "error",
     "traceback": [
      "\u001b[0;31m---------------------------------------------------------------------------\u001b[0m",
      "\u001b[0;31mKeyError\u001b[0m                                  Traceback (most recent call last)",
      "\u001b[0;32m<ipython-input-56-b29d0bf1cc24>\u001b[0m in \u001b[0;36m<module>\u001b[0;34m()\u001b[0m\n\u001b[1;32m      1\u001b[0m \u001b[0;32mfor\u001b[0m \u001b[0mz\u001b[0m \u001b[0;32min\u001b[0m \u001b[0mrange\u001b[0m\u001b[0;34m(\u001b[0m\u001b[0;36m0\u001b[0m\u001b[0;34m,\u001b[0m\u001b[0;36m24\u001b[0m\u001b[0;34m)\u001b[0m\u001b[0;34m:\u001b[0m\u001b[0;34m\u001b[0m\u001b[0m\n\u001b[0;32m----> 2\u001b[0;31m     \u001b[0mxxx\u001b[0m\u001b[0;34m=\u001b[0m\u001b[0mdata\u001b[0m\u001b[0;34m[\u001b[0m\u001b[0;34m'feed'\u001b[0m\u001b[0;34m]\u001b[0m\u001b[0;34m[\u001b[0m\u001b[0;34m'data'\u001b[0m\u001b[0;34m]\u001b[0m\u001b[0;34m[\u001b[0m\u001b[0mz\u001b[0m\u001b[0;34m]\u001b[0m\u001b[0;34m[\u001b[0m\u001b[0;34m'message'\u001b[0m\u001b[0;34m]\u001b[0m\u001b[0;34m\u001b[0m\u001b[0m\n\u001b[0m\u001b[1;32m      3\u001b[0m     \u001b[0mcount\u001b[0m\u001b[0;34m=\u001b[0m\u001b[0mcount\u001b[0m\u001b[0;34m+\u001b[0m\u001b[0;36m1\u001b[0m\u001b[0;34m\u001b[0m\u001b[0m\n\u001b[1;32m      4\u001b[0m     \u001b[0;32mprint\u001b[0m \u001b[0mcount\u001b[0m\u001b[0;34m\u001b[0m\u001b[0m\n\u001b[1;32m      5\u001b[0m     \u001b[0;32mprint\u001b[0m \u001b[0mxxx\u001b[0m\u001b[0;34m\u001b[0m\u001b[0m\n",
      "\u001b[0;31mKeyError\u001b[0m: 'message'"
     ]
    }
   ],
   "source": [
    "for z in range(0,24):\n",
    "    xxx=data['feed']['data'][z]['message']\n",
    "    count=count+1\n",
    "    print count\n",
    "    print xxx"
   ]
  },
  {
   "cell_type": "code",
   "execution_count": 52,
   "metadata": {},
   "outputs": [
    {
     "name": "stdout",
     "output_type": "stream",
     "text": [
      "7\n",
      "buysmaart\n",
      "8\n",
      "buysmaart\n",
      "9\n",
      "buysmaart\n",
      "10\n",
      "buysmaart\n",
      "11\n",
      "buysmaart\n",
      "12\n",
      "buysmaart\n",
      "13\n",
      "buysmaart\n",
      "14\n",
      "buysmaart\n",
      "15\n",
      "buysmaart\n",
      "16\n",
      "buysmaart\n",
      "17\n",
      "buysmaart\n",
      "18\n",
      "buysmaart\n",
      "19\n",
      "buysmaart\n",
      "20\n",
      "buysmaart\n",
      "21\n",
      "buysmaart\n",
      "22\n",
      "buysmaart\n",
      "23\n",
      "buysmaart\n",
      "24\n",
      "buysmaart\n",
      "25\n",
      "buysmaart\n",
      "26\n",
      "buysmaart\n",
      "27\n",
      "buysmaart\n",
      "28\n",
      "buysmaart\n",
      "29\n",
      "buysmaart\n",
      "30\n",
      "buysmaart\n"
     ]
    }
   ],
   "source": [
    "for z in range(0,24):\n",
    "    xxx=data['name']\n",
    "    count=count+1\n",
    "    print count\n",
    "    print xxx"
   ]
  },
  {
   "cell_type": "code",
   "execution_count": 53,
   "metadata": {},
   "outputs": [
    {
     "name": "stdout",
     "output_type": "stream",
     "text": [
      "31\n",
      "2018-12-31T18:30:01+0000\n",
      "32\n",
      "2018-11-06T03:39:13+0000\n",
      "33\n",
      "2018-09-13T01:31:00+0000\n",
      "34\n",
      "2018-08-09T06:12:12+0000\n",
      "35\n",
      "2018-01-26T05:55:55+0000\n",
      "36\n",
      "2018-01-14T14:01:45+0000\n",
      "37\n",
      "2018-01-01T18:23:10+0000\n",
      "38\n",
      "2017-12-31T03:02:54+0000\n",
      "39\n",
      "2017-12-31T02:59:53+0000\n",
      "40\n",
      "2017-12-24T09:06:35+0000\n",
      "41\n",
      "2017-12-24T09:05:25+0000\n",
      "42\n",
      "2017-11-27T05:43:40+0000\n",
      "43\n",
      "2017-11-23T10:14:40+0000\n",
      "44\n",
      "2017-10-24T09:40:34+0000\n",
      "45\n",
      "2017-10-17T10:41:45+0000\n",
      "46\n",
      "2017-08-25T01:31:36+0000\n",
      "47\n",
      "2017-08-10T06:59:38+0000\n",
      "48\n",
      "2017-08-06T13:51:19+0000\n",
      "49\n",
      "2017-08-06T09:39:11+0000\n",
      "50\n",
      "2017-08-03T22:56:10+0000\n",
      "51\n",
      "2017-08-03T14:48:25+0000\n",
      "52\n",
      "2017-08-03T11:58:39+0000\n",
      "53\n",
      "2017-04-18T13:33:29+0000\n",
      "54\n",
      "2017-03-14T13:28:48+0000\n"
     ]
    }
   ],
   "source": [
    "for z in range(0,24):\n",
    "    xxx=data['feed']['data'][z]['created_time']\n",
    "    count=count+1\n",
    "    print count\n",
    "    print xxx"
   ]
  },
  {
   "cell_type": "code",
   "execution_count": null,
   "metadata": {},
   "outputs": [],
   "source": [
    "for z in range(0,24):\n",
    "    xxx=data['feed']['data'][z]['created_time']\n",
    "    count=count+1\n",
    "    print count\n",
    "    print xxx"
   ]
  },
  {
   "cell_type": "code",
   "execution_count": 15,
   "metadata": {},
   "outputs": [],
   "source": [
    "##########################################"
   ]
  },
  {
   "cell_type": "code",
   "execution_count": 16,
   "metadata": {},
   "outputs": [],
   "source": [
    "import json"
   ]
  },
  {
   "cell_type": "code",
   "execution_count": 22,
   "metadata": {},
   "outputs": [],
   "source": [
    "with open(\"fb.json\") as data_file:\n",
    "    data = json.loads(data_file.read())\n",
    "    "
   ]
  },
  {
   "cell_type": "code",
   "execution_count": 26,
   "metadata": {},
   "outputs": [
    {
     "name": "stdout",
     "output_type": "stream",
     "text": [
      "[u'feed', u'id', u'name']\n"
     ]
    }
   ],
   "source": [
    "print data.keys()"
   ]
  },
  {
   "cell_type": "code",
   "execution_count": 58,
   "metadata": {},
   "outputs": [
    {
     "name": "stdout",
     "output_type": "stream",
     "text": [
      "4\n",
      "4\n",
      "1\n",
      "9\n",
      "1\n",
      "8\n",
      "2\n",
      "3\n",
      "5\n",
      "9\n",
      "6\n",
      "8\n",
      "6\n",
      "5\n",
      "4\n"
     ]
    },
    {
     "ename": "IndexError",
     "evalue": "string index out of range",
     "output_type": "error",
     "traceback": [
      "\u001b[0;31m---------------------------------------------------------------------------\u001b[0m",
      "\u001b[0;31mIndexError\u001b[0m                                Traceback (most recent call last)",
      "\u001b[0;32m<ipython-input-58-86e1aaf64370>\u001b[0m in \u001b[0;36m<module>\u001b[0;34m()\u001b[0m\n\u001b[1;32m      1\u001b[0m \u001b[0;32mfor\u001b[0m \u001b[0mz\u001b[0m \u001b[0;32min\u001b[0m \u001b[0mrange\u001b[0m\u001b[0;34m(\u001b[0m\u001b[0;36m0\u001b[0m\u001b[0;34m,\u001b[0m\u001b[0;36m25\u001b[0m\u001b[0;34m)\u001b[0m\u001b[0;34m:\u001b[0m\u001b[0;34m\u001b[0m\u001b[0m\n\u001b[0;32m----> 2\u001b[0;31m     \u001b[0mxxx\u001b[0m\u001b[0;34m=\u001b[0m\u001b[0mdata\u001b[0m\u001b[0;34m[\u001b[0m\u001b[0;34m'id'\u001b[0m\u001b[0;34m]\u001b[0m\u001b[0;34m[\u001b[0m\u001b[0mz\u001b[0m\u001b[0;34m]\u001b[0m\u001b[0;34m\u001b[0m\u001b[0m\n\u001b[0m\u001b[1;32m      3\u001b[0m     \u001b[0mcount\u001b[0m\u001b[0;34m=\u001b[0m\u001b[0mcount\u001b[0m\u001b[0;34m+\u001b[0m\u001b[0;36m1\u001b[0m\u001b[0;34m\u001b[0m\u001b[0m\n\u001b[1;32m      4\u001b[0m     \u001b[0;31m#print count\u001b[0m\u001b[0;34m\u001b[0m\u001b[0;34m\u001b[0m\u001b[0m\n\u001b[1;32m      5\u001b[0m     \u001b[0;32mprint\u001b[0m \u001b[0mxxx\u001b[0m\u001b[0;34m\u001b[0m\u001b[0m\n",
      "\u001b[0;31mIndexError\u001b[0m: string index out of range"
     ]
    }
   ],
   "source": [
    "for z in range(0,25):\n",
    "    xxx=data['id'][z]\n",
    "    count=count+1\n",
    "    #print count\n",
    "    print xxx"
   ]
  },
  {
   "cell_type": "code",
   "execution_count": 44,
   "metadata": {},
   "outputs": [],
   "source": [
    "count=0"
   ]
  },
  {
   "cell_type": "code",
   "execution_count": 45,
   "metadata": {},
   "outputs": [
    {
     "name": "stdout",
     "output_type": "stream",
     "text": [
      "1\n",
      "Wish you happy and a prosperous 2019!\n",
      "\n",
      "Being an A.I. company means we walk, talk, eat, drink, sleep, listen and live in Sentiments and Emotions\n",
      "2\n",
      "We at Enixta had a great Diwali this year. Wishing you all a Happy and Safe Diwali!\n",
      "3\n",
      "Wish you and your family a Happy and blessed Ganesh Chaturthi!\n",
      "4\n",
      "4 years ago, all we had was a dream!\n",
      "\n",
      "And now we can proudly say,\n",
      "we have relentlessly pursued that dream, \n",
      "persevered and tasted sweet success.\n",
      "\n",
      "We are here for long, here for good and\n",
      "we couldnt have reached this far without \n",
      "your support and encouragement!\n",
      "\n",
      "Thank you for being with us!\n",
      "5\n",
      "Its already a happy republic day for us, as we welcome onboard Flipkart, MARS and Biophore\n",
      "as our customers!\n",
      "6\n",
      "Happy Pongal!\n"
     ]
    },
    {
     "ename": "KeyError",
     "evalue": "'message'",
     "output_type": "error",
     "traceback": [
      "\u001b[0;31m---------------------------------------------------------------------------\u001b[0m",
      "\u001b[0;31mKeyError\u001b[0m                                  Traceback (most recent call last)",
      "\u001b[0;32m<ipython-input-45-29e536d118c2>\u001b[0m in \u001b[0;36m<module>\u001b[0;34m()\u001b[0m\n\u001b[1;32m      1\u001b[0m \u001b[0;32mfor\u001b[0m \u001b[0mz\u001b[0m \u001b[0;32min\u001b[0m \u001b[0mrange\u001b[0m\u001b[0;34m(\u001b[0m\u001b[0;36m0\u001b[0m\u001b[0;34m,\u001b[0m\u001b[0;36m25\u001b[0m\u001b[0;34m)\u001b[0m\u001b[0;34m:\u001b[0m\u001b[0;34m\u001b[0m\u001b[0m\n\u001b[0;32m----> 2\u001b[0;31m     \u001b[0mxxx\u001b[0m\u001b[0;34m=\u001b[0m\u001b[0mdata\u001b[0m\u001b[0;34m[\u001b[0m\u001b[0;34m'feed'\u001b[0m\u001b[0;34m]\u001b[0m\u001b[0;34m[\u001b[0m\u001b[0;34m'data'\u001b[0m\u001b[0;34m]\u001b[0m\u001b[0;34m[\u001b[0m\u001b[0mz\u001b[0m\u001b[0;34m]\u001b[0m\u001b[0;34m[\u001b[0m\u001b[0;34m'message'\u001b[0m\u001b[0;34m]\u001b[0m\u001b[0;34m\u001b[0m\u001b[0m\n\u001b[0m\u001b[1;32m      3\u001b[0m     \u001b[0mcount\u001b[0m\u001b[0;34m=\u001b[0m\u001b[0mcount\u001b[0m\u001b[0;34m+\u001b[0m\u001b[0;36m1\u001b[0m\u001b[0;34m\u001b[0m\u001b[0m\n\u001b[1;32m      4\u001b[0m     \u001b[0;32mprint\u001b[0m \u001b[0mcount\u001b[0m\u001b[0;34m\u001b[0m\u001b[0m\n\u001b[1;32m      5\u001b[0m     \u001b[0;32mprint\u001b[0m \u001b[0mxxx\u001b[0m\u001b[0;34m\u001b[0m\u001b[0m\n",
      "\u001b[0;31mKeyError\u001b[0m: 'message'"
     ]
    }
   ],
   "source": [
    "for z in range(0,25):\n",
    "    xxx=data['feed']['data'][z]['message']\n",
    "    count=count+1\n",
    "    print count\n",
    "    print xxx"
   ]
  },
  {
   "cell_type": "code",
   "execution_count": 42,
   "metadata": {},
   "outputs": [
    {
     "name": "stdout",
     "output_type": "stream",
     "text": [
      "1\n",
      "2018-12-31T18:30:01+0000\n",
      "2\n",
      "2018-11-06T03:39:13+0000\n",
      "3\n",
      "2018-09-13T01:31:00+0000\n",
      "4\n",
      "2018-08-09T06:12:12+0000\n",
      "5\n",
      "2018-01-26T05:55:55+0000\n",
      "6\n",
      "2018-01-14T14:01:45+0000\n",
      "7\n",
      "2018-01-01T18:23:10+0000\n",
      "8\n",
      "2017-12-31T03:02:54+0000\n",
      "9\n",
      "2017-12-31T02:59:53+0000\n",
      "10\n",
      "2017-12-24T09:06:35+0000\n",
      "11\n",
      "2017-12-24T09:05:25+0000\n",
      "12\n",
      "2017-11-27T05:43:40+0000\n",
      "13\n",
      "2017-11-23T10:14:40+0000\n",
      "14\n",
      "2017-10-24T09:40:34+0000\n",
      "15\n",
      "2017-10-17T10:41:45+0000\n",
      "16\n",
      "2017-08-25T01:31:36+0000\n",
      "17\n",
      "2017-08-10T06:59:38+0000\n",
      "18\n",
      "2017-08-06T13:51:19+0000\n",
      "19\n",
      "2017-08-06T09:39:11+0000\n",
      "20\n",
      "2017-08-03T22:56:10+0000\n",
      "21\n",
      "2017-08-03T14:48:25+0000\n",
      "22\n",
      "2017-08-03T11:58:39+0000\n",
      "23\n",
      "2017-04-18T13:33:29+0000\n",
      "24\n",
      "2017-03-14T13:28:48+0000\n",
      "25\n",
      "2017-03-10T12:47:21+0000\n"
     ]
    }
   ],
   "source": [
    "for z in range(0,25):\n",
    "    xxx=data['feed']['data'][z]['created_time']\n",
    "    count=count+1\n",
    "    print count\n",
    "    print xxx"
   ]
  },
  {
   "cell_type": "code",
   "execution_count": null,
   "metadata": {},
   "outputs": [],
   "source": []
  }
 ],
 "metadata": {
  "kernelspec": {
   "display_name": "Python 2",
   "language": "python",
   "name": "python2"
  },
  "language_info": {
   "codemirror_mode": {
    "name": "ipython",
    "version": 2
   },
   "file_extension": ".py",
   "mimetype": "text/x-python",
   "name": "python",
   "nbconvert_exporter": "python",
   "pygments_lexer": "ipython2",
   "version": "2.7.15"
  }
 },
 "nbformat": 4,
 "nbformat_minor": 2
}
