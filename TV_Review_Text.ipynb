{
 "cells": [
  {
   "cell_type": "code",
   "execution_count": 716,
   "metadata": {},
   "outputs": [
    {
     "name": "stdout",
     "output_type": "stream",
     "text": [
      "{u'BatchedResultsOrder': [u'q1', u'q2', u'q3', u'q4', u'q0'], u'Errors': [], u'HasErrors': False, u'BatchedResults': {u'q1': {u'Errors': [], u'HasErrors': False, u'Locale': u'en_IN', u'Results': [{u'TotalPositiveFeedbackCount': 102, u'CID': u'f3c060f0-be0a-50bd-81cf-b11ad4dde937', u'CommentIds': [], u'TotalClientResponseCount': 0, u'Pros': None, u'UserLocation': None, u'LastModeratedTime': u'2018-11-13T03:15:02.000+00:00', u'SourceClient': u'samsung-en_in', u'TagDimensionsOrder': [], u'Title': u'J7 2016 is a best mobile', u'TotalFeedbackCount': 102, u'BadgesOrder': [], u'IsSyndicated': False, u'ContextDataValuesOrder': [], u'CampaignId': u'BV_REVIEW_DISPLAY', u'AdditionalFields': {}, u'LastModificationTime': u'2018-12-23T17:10:38.000+00:00', u'SubmissionId': u'slnuk1x86vdys7j1c7v3p74im', u'Photos': [], u'TagDimensions': {}, u'SecondaryRatings': {u'Performance': {u'Value': 5, u'Label': None, u'ValueRange': 5, u'DisplayType': u'NORMAL', u'MaxLabel': None, u'MinLabel': None, u'ValueLabel': None, u'Id': u'Performance'}, u'Design': {u'Value': 4, u'Label': None, u'ValueRange': 5, u'DisplayType': u'NORMAL', u'MaxLabel': None, u'MinLabel': None, u'ValueLabel': None, u'Id': u'Design'}, u'Features': {u'Value': 4, u'Label': None, u'ValueRange': 5, u'DisplayType': u'NORMAL', u'MaxLabel': None, u'MinLabel': None, u'ValueLabel': None, u'Id': u'Features'}, u'Value': {u'Value': 4, u'Label': None, u'ValueRange': 5, u'DisplayType': u'NORMAL', u'MaxLabel': None, u'MinLabel': None, u'ValueLabel': None, u'Id': u'Value'}}, u'SubmissionTime': u'2018-11-13T01:13:09.000+00:00', u'ContextDataValues': {}, u'ContentLocale': u'en_IN', u'TotalNegativeFeedbackCount': 0, u'IsFeatured': False, u'IsRatingsOnly': False, u'ReviewText': u'Very smooth and fast running and battery backup is very fast', u'UserNickname': u'CA Chirag Sharma', u'ModerationStatus': u'APPROVED', u'AdditionalFieldsOrder': [], u'Helpfulness': 1.0, u'TotalCommentCount': 0, u'IsRecommended': True, u'RatingRange': 5, u'ProductId': u'SM-J710FZDUINS', u'Rating': 5, u'Cons': None, u'Videos': [], u'ClientResponses': [], u'AuthorId': u'f16ovjqbubm58wa62n2s1en7b', u'SecondaryRatingsOrder': [u'Features', u'Performance', u'Design', u'Value'], u'ProductRecommendationIds': [], u'Id': u'183481066', u'Badges': {}}, {u'TotalPositiveFeedbackCount': 427, u'CID': u'31212283-4251-5368-a3c1-7e57468820f7', u'CommentIds': [], u'TotalClientResponseCount': 0, u'Pros': None, u'UserLocation': None, u'LastModeratedTime': u'2018-09-19T02:45:03.000+00:00', u'SourceClient': u'samsung-en_in', u'TagDimensionsOrder': [u'Pro'], u'Title': u'Good built quality, long lasting battery', u'TotalFeedbackCount': 427, u'BadgesOrder': [], u'IsSyndicated': False, u'ContextDataValuesOrder': [], u'CampaignId': u'BV_REVIEW_DISPLAY', u'AdditionalFields': {}, u'LastModificationTime': u'2018-12-10T00:14:27.000+00:00', u'SubmissionId': u'assg6e615b02rejknf6i8rpmb', u'Photos': [], u'TagDimensions': {u'Pro': {u'Values': [u'Realistic color', u'Bright display', u'Durable'], u'Id': u'Pro', u'Label': None}}, u'SecondaryRatings': {u'Performance': {u'Value': 5, u'Label': None, u'ValueRange': 5, u'DisplayType': u'NORMAL', u'MaxLabel': None, u'MinLabel': None, u'ValueLabel': None, u'Id': u'Performance'}, u'Design': {u'Value': 5, u'Label': None, u'ValueRange': 5, u'DisplayType': u'NORMAL', u'MaxLabel': None, u'MinLabel': None, u'ValueLabel': None, u'Id': u'Design'}, u'Features': {u'Value': 5, u'Label': None, u'ValueRange': 5, u'DisplayType': u'NORMAL', u'MaxLabel': None, u'MinLabel': None, u'ValueLabel': None, u'Id': u'Features'}, u'Value': {u'Value': 5, u'Label': None, u'ValueRange': 5, u'DisplayType': u'NORMAL', u'MaxLabel': None, u'MinLabel': None, u'ValueLabel': None, u'Id': u'Value'}}, u'SubmissionTime': u'2018-09-19T01:23:14.000+00:00', u'ContextDataValues': {}, u'ContentLocale': u'en_IN', u'TotalNegativeFeedbackCount': 0, u'IsFeatured': False, u'IsRatingsOnly': False, u'ReviewText': u\"I have been using this phone for a year now and i didn't found any problem with the phone.\\r\\nVery nice phone i am very happy.\", u'UserNickname': u'GAMERRJ', u'ModerationStatus': u'APPROVED', u'AdditionalFieldsOrder': [], u'Helpfulness': 1.0, u'TotalCommentCount': 0, u'IsRecommended': True, u'RatingRange': 5, u'ProductId': u'SM-J710FZDUINS', u'Rating': 5, u'Cons': None, u'Videos': [], u'ClientResponses': [], u'AuthorId': u'tfuc62xs59xc0hmfo4acne30y', u'SecondaryRatingsOrder': [u'Features', u'Performance', u'Design', u'Value'], u'ProductRecommendationIds': [], u'Id': u'182252047', u'Badges': {}}, {u'TotalPositiveFeedbackCount': 1002, u'CID': u'db4437fd-5bcf-5f49-b6bb-f487d44534e7', u'CommentIds': [], u'TotalClientResponseCount': 0, u'Pros': None, u'UserLocation': None, u'LastModeratedTime': u'2018-04-06T15:45:09.000+00:00', u'SourceClient': u'samsung-en_in', u'TagDimensionsOrder': [u'Pro', u'Con'], u'Title': u'J7 2016', u'TotalFeedbackCount': 1003, u'BadgesOrder': [], u'IsSyndicated': False, u'ContextDataValuesOrder': [], u'CampaignId': None, u'AdditionalFields': {}, u'LastModificationTime': u'2018-12-10T00:14:31.000+00:00', u'SubmissionId': u'lnqu8tycdq7xh0riy8khur95r', u'Photos': [], u'TagDimensions': {u'Pro': {u'Values': [u'Durable'], u'Id': u'Pro', u'Label': None}, u'Con': {u'Values': [u'Not high def'], u'Id': u'Con', u'Label': None}}, u'SecondaryRatings': {u'Performance': {u'Value': 5, u'Label': None, u'ValueRange': 5, u'DisplayType': u'NORMAL', u'MaxLabel': None, u'MinLabel': None, u'ValueLabel': None, u'Id': u'Performance'}, u'Design': {u'Value': 5, u'Label': None, u'ValueRange': 5, u'DisplayType': u'NORMAL', u'MaxLabel': None, u'MinLabel': None, u'ValueLabel': None, u'Id': u'Design'}, u'Features': {u'Value': 5, u'Label': None, u'ValueRange': 5, u'DisplayType': u'NORMAL', u'MaxLabel': None, u'MinLabel': None, u'ValueLabel': None, u'Id': u'Features'}, u'Value': {u'Value': 5, u'Label': None, u'ValueRange': 5, u'DisplayType': u'NORMAL', u'MaxLabel': None, u'MinLabel': None, u'ValueLabel': None, u'Id': u'Value'}}, u'SubmissionTime': u'2018-04-06T15:23:34.000+00:00', u'ContextDataValues': {}, u'ContentLocale': u'en_IN', u'TotalNegativeFeedbackCount': 1, u'IsFeatured': False, u'IsRatingsOnly': False, u'ReviewText': u'Every feature is good, however, no Android Oreo update', u'UserNickname': u'Ratandeep', u'ModerationStatus': u'APPROVED', u'AdditionalFieldsOrder': [], u'Helpfulness': 0.999002993106842, u'TotalCommentCount': 0, u'IsRecommended': True, u'RatingRange': 5, u'ProductId': u'SM-J710FZDUINS', u'Rating': 5, u'Cons': None, u'Videos': [], u'ClientResponses': [], u'AuthorId': u'z6um7z6sz4dy211p3jeaxoxp06', u'SecondaryRatingsOrder': [u'Features', u'Performance', u'Design', u'Value'], u'ProductRecommendationIds': [], u'Id': u'179420100', u'Badges': {}}, {u'TotalPositiveFeedbackCount': 2, u'CID': u'c890730f-8a78-5a5b-8135-90cf29938eaf', u'CommentIds': [], u'TotalClientResponseCount': 0, u'Pros': None, u'UserLocation': None, u'LastModeratedTime': u'2017-11-27T18:45:06.000+00:00', u'SourceClient': u'samsung-en_in', u'TagDimensionsOrder': [u'Pro', u'Con'], u'Title': u'One of the best galaxy j7 2016', u'TotalFeedbackCount': 2, u'BadgesOrder': [], u'IsSyndicated': False, u'ContextDataValuesOrder': [], u'CampaignId': None, u'AdditionalFields': {}, u'LastModificationTime': u'2018-11-22T06:00:32.000+00:00', u'SubmissionId': u'ami9ydlu0cdc4bh3r6bhuh1l8', u'Photos': [], u'TagDimensions': {u'Pro': {u'Values': [u'Inexpensive', u'Realistic color', u'Bright display', u'Durable'], u'Id': u'Pro', u'Label': None}, u'Con': {u'Values': [u'sound output is a bit lower side.'], u'Id': u'Con', u'Label': None}}, u'SecondaryRatings': {u'Performance': {u'Value': 5, u'Label': None, u'ValueRange': 5, u'DisplayType': u'NORMAL', u'MaxLabel': None, u'MinLabel': None, u'ValueLabel': None, u'Id': u'Performance'}, u'Design': {u'Value': 5, u'Label': None, u'ValueRange': 5, u'DisplayType': u'NORMAL', u'MaxLabel': None, u'MinLabel': None, u'ValueLabel': None, u'Id': u'Design'}, u'Features': {u'Value': 4, u'Label': None, u'ValueRange': 5, u'DisplayType': u'NORMAL', u'MaxLabel': None, u'MinLabel': None, u'ValueLabel': None, u'Id': u'Features'}, u'Value': {u'Value': 3, u'Label': None, u'ValueRange': 5, u'DisplayType': u'NORMAL', u'MaxLabel': None, u'MinLabel': None, u'ValueLabel': None, u'Id': u'Value'}}, u'SubmissionTime': u'2017-11-27T01:48:20.000+00:00', u'ContextDataValues': {}, u'ContentLocale': u'en_IN', u'TotalNegativeFeedbackCount': 0, u'IsFeatured': False, u'IsRatingsOnly': False, u'ReviewText': u'Awsome performance, after naugat update it&#039;s like charm using this device. Always ready to perform. Reliable radio device . I recommend. Build quality also very good. Always choose sAmoled product of samsung . Because it deliver what you pay. Thanks.', u'UserNickname': u'S.Santra', u'ModerationStatus': u'APPROVED', u'AdditionalFieldsOrder': [], u'Helpfulness': 1.0, u'TotalCommentCount': 0, u'IsRecommended': True, u'RatingRange': 5, u'ProductId': u'SM-J710FZDUINS', u'Rating': 5, u'Cons': None, u'Videos': [], u'ClientResponses': [], u'AuthorId': u'zam10e6y3163d7h8b82yyg0t4a', u'SecondaryRatingsOrder': [u'Features', u'Performance', u'Design', u'Value'], u'ProductRecommendationIds': [], u'Id': u'176598285', u'Badges': {}}, {u'TotalPositiveFeedbackCount': 2, u'CID': u'2484ea3e-7588-5b4f-8cfa-3a7acd765e19', u'CommentIds': [], u'TotalClientResponseCount': 0, u'Pros': None, u'UserLocation': None, u'LastModeratedTime': u'2017-11-06T17:30:05.000+00:00', u'SourceClient': u'samsung-en_in', u'TagDimensionsOrder': [], u'Title': u'ram equal to another phones 3 gb', u'TotalFeedbackCount': 2, u'BadgesOrder': [], u'IsSyndicated': False, u'ContextDataValuesOrder': [], u'CampaignId': None, u'AdditionalFields': {}, u'LastModificationTime': u'2018-11-13T05:54:17.000+00:00', u'SubmissionId': u'a9u9iwlozeihj19at7d0i5l5v', u'Photos': [], u'TagDimensions': {}, u'SecondaryRatings': {u'Performance': {u'Value': 5, u'Label': None, u'ValueRange': 5, u'DisplayType': u'NORMAL', u'MaxLabel': None, u'MinLabel': None, u'ValueLabel': None, u'Id': u'Performance'}, u'Design': {u'Value': 5, u'Label': None, u'ValueRange': 5, u'DisplayType': u'NORMAL', u'MaxLabel': None, u'MinLabel': None, u'ValueLabel': None, u'Id': u'Design'}, u'Features': {u'Value': 5, u'Label': None, u'ValueRange': 5, u'DisplayType': u'NORMAL', u'MaxLabel': None, u'MinLabel': None, u'ValueLabel': None, u'Id': u'Features'}, u'Value': {u'Value': 5, u'Label': None, u'ValueRange': 5, u'DisplayType': u'NORMAL', u'MaxLabel': None, u'MinLabel': None, u'ValueLabel': None, u'Id': u'Value'}}, u'SubmissionTime': u'2017-11-06T07:49:48.000+00:00', u'ContextDataValues': {}, u'ContentLocale': u'en_IN', u'TotalNegativeFeedbackCount': 0, u'IsFeatured': False, u'IsRatingsOnly': False, u'ReviewText': u'very good mobile.good camara .good display.long battary backup', u'UserNickname': u'sree', u'ModerationStatus': u'APPROVED', u'AdditionalFieldsOrder': [], u'Helpfulness': 1.0, u'TotalCommentCount': 0, u'IsRecommended': True, u'RatingRange': 5, u'ProductId': u'SM-J710FZDUINS', u'Rating': 5, u'Cons': None, u'Videos': [], u'ClientResponses': [], u'AuthorId': u'zsz15lmezabquqslyika366cnc', u'SecondaryRatingsOrder': [u'Features', u'Performance', u'Design', u'Value'], u'ProductRecommendationIds': [], u'Id': u'175689913', u'Badges': {}}, {u'TotalPositiveFeedbackCount': 1, u'CID': u'7da79b15-587f-5bf7-8611-379c8c8b2f0f', u'CommentIds': [], u'TotalClientResponseCount': 0, u'Pros': None, u'UserLocation': None, u'LastModeratedTime': u'2017-08-21T18:30:15.000+00:00', u'SourceClient': u'samsung-en_in', u'TagDimensionsOrder': [u'Pro', u'Con'], u'Title': u'an Awesome smartphone.', u'TotalFeedbackCount': 1, u'BadgesOrder': [], u'IsSyndicated': False, u'ContextDataValuesOrder': [], u'CampaignId': None, u'AdditionalFields': {}, u'LastModificationTime': u'2017-08-21T18:30:15.000+00:00', u'SubmissionId': u'pbq274gu0zgop35xzp9h0ijyl', u'Photos': [], u'TagDimensions': {u'Pro': {u'Values': [u'Inexpensive', u'Realistic color', u'Bright display', u'Durable'], u'Id': u'Pro', u'Label': None}, u'Con': {u'Values': [u'Too big', u'speaker issues'], u'Id': u'Con', u'Label': None}}, u'SecondaryRatings': {u'Performance': {u'Value': 5, u'Label': None, u'ValueRange': 5, u'DisplayType': u'NORMAL', u'MaxLabel': None, u'MinLabel': None, u'ValueLabel': None, u'Id': u'Performance'}, u'Design': {u'Value': 5, u'Label': None, u'ValueRange': 5, u'DisplayType': u'NORMAL', u'MaxLabel': None, u'MinLabel': None, u'ValueLabel': None, u'Id': u'Design'}, u'Features': {u'Value': 5, u'Label': None, u'ValueRange': 5, u'DisplayType': u'NORMAL', u'MaxLabel': None, u'MinLabel': None, u'ValueLabel': None, u'Id': u'Features'}, u'Value': {u'Value': 5, u'Label': None, u'ValueRange': 5, u'DisplayType': u'NORMAL', u'MaxLabel': None, u'MinLabel': None, u'ValueLabel': None, u'Id': u'Value'}}, u'SubmissionTime': u'2017-08-20T18:07:03.000+00:00', u'ContextDataValues': {}, u'ContentLocale': u'en_IN', u'TotalNegativeFeedbackCount': 0, u'IsFeatured': False, u'IsRatingsOnly': False, u'ReviewText': u'Everything is brilliant. Design, picture quality, Display quality, performance is at the awesome level. But no LED notification. :( BUt that would not bother. J7 2016 is a great phone can be used.', u'UserNickname': u'Osaaa', u'ModerationStatus': u'APPROVED', u'AdditionalFieldsOrder': [], u'Helpfulness': 1.0, u'TotalCommentCount': 0, u'IsRecommended': False, u'RatingRange': 5, u'ProductId': u'SM-J710FZDUINS', u'Rating': 5, u'Cons': None, u'Videos': [], u'ClientResponses': [], u'AuthorId': u'zp479xt4hr2v1ayuirzs1vtdvj', u'SecondaryRatingsOrder': [u'Features', u'Performance', u'Design', u'Value'], u'ProductRecommendationIds': [], u'Id': u'169138903', u'Badges': {}}, {u'TotalPositiveFeedbackCount': 1, u'CID': u'c1f700c7-389a-583f-9887-724018df4112', u'CommentIds': [], u'TotalClientResponseCount': 0, u'Pros': None, u'UserLocation': None, u'LastModeratedTime': u'2017-07-28T06:00:01.000+00:00', u'SourceClient': u'samsung-en_in', u'TagDimensionsOrder': [u'Pro', u'Con'], u'Title': u'Overall Amaze U', u'TotalFeedbackCount': 2, u'BadgesOrder': [], u'IsSyndicated': False, u'ContextDataValuesOrder': [], u'CampaignId': None, u'AdditionalFields': {}, u'LastModificationTime': u'2018-10-23T16:03:05.000+00:00', u'SubmissionId': u'ducmo8ktvydoopybbuwu9fqa0', u'Photos': [], u'TagDimensions': {u'Pro': {u'Values': [u'Lightweight', u'Durable', u'awesome performance', u'stay in power', u'premium look', u'excellent camera', u'front flash'], u'Id': u'Pro', u'Label': None}, u'Con': {u'Values': [u'light sensor', u'buit in back speaker'], u'Id': u'Con', u'Label': None}}, u'SecondaryRatings': {u'Performance': {u'Value': 5, u'Label': None, u'ValueRange': 5, u'DisplayType': u'NORMAL', u'MaxLabel': None, u'MinLabel': None, u'ValueLabel': None, u'Id': u'Performance'}, u'Design': {u'Value': 4, u'Label': None, u'ValueRange': 5, u'DisplayType': u'NORMAL', u'MaxLabel': None, u'MinLabel': None, u'ValueLabel': None, u'Id': u'Design'}, u'Features': {u'Value': 4, u'Label': None, u'ValueRange': 5, u'DisplayType': u'NORMAL', u'MaxLabel': None, u'MinLabel': None, u'ValueLabel': None, u'Id': u'Features'}, u'Value': {u'Value': 5, u'Label': None, u'ValueRange': 5, u'DisplayType': u'NORMAL', u'MaxLabel': None, u'MinLabel': None, u'ValueLabel': None, u'Id': u'Value'}}, u'SubmissionTime': u'2017-07-27T10:04:07.000+00:00', u'ContextDataValues': {}, u'ContentLocale': u'en_IN', u'TotalNegativeFeedbackCount': 1, u'IsFeatured': False, u'IsRatingsOnly': False, u'ReviewText': u'I am using this phone from a long time. Camera is amazing and have f 1.9 both front and back and front camera comes with a selfi flash. Camera quality is just decent , your first photography with this phone will make u feel awesome , u r not going to got this in similar price range phones . I got Exynos 7870 , butter like performance even with high end games and no heating issue. The combination of 3300mAh battery abd 14nm CPU , make your stay in power upto 2 days with average uses . sAmoled screen made images , videos etc. looks more sharp and very good colour reproduction.  Although phone lack with some basic features like no auto brightness sensor , low sound with built in speaker but these things doesn&#039;t matter more . Overall phone have awesome buit in quality in all respect. Good look with metal frame , And trust and service quality of Samsung. And most important this phone come in good price range.', u'UserNickname': u'Ashutosh Kumar Singh', u'ModerationStatus': u'APPROVED', u'AdditionalFieldsOrder': [], u'Helpfulness': 0.5, u'TotalCommentCount': 0, u'IsRecommended': True, u'RatingRange': 5, u'ProductId': u'SM-J710FZDUINS', u'Rating': 5, u'Cons': None, u'Videos': [], u'ClientResponses': [], u'AuthorId': u'zt52ega2kxim3rmmfsdwmuz2cm', u'SecondaryRatingsOrder': [u'Features', u'Performance', u'Design', u'Value'], u'ProductRecommendationIds': [], u'Id': u'167466375', u'Badges': {}}, {u'TotalPositiveFeedbackCount': 0, u'CID': u'01a31abf-1c58-5f34-b321-358a7948cc86', u'CommentIds': [], u'TotalClientResponseCount': 0, u'Pros': None, u'UserLocation': None, u'LastModeratedTime': u'2017-07-24T19:15:50.000+00:00', u'SourceClient': u'samsung-en_in', u'TagDimensionsOrder': [u'Con'], u'Title': u'Value for money', u'TotalFeedbackCount': 0, u'BadgesOrder': [], u'IsSyndicated': False, u'ContextDataValuesOrder': [], u'CampaignId': None, u'AdditionalFields': {}, u'LastModificationTime': u'2017-07-24T19:15:50.000+00:00', u'SubmissionId': u'u12tli6ltgjtj4xw8q2ft8t2l', u'Photos': [], u'TagDimensions': {u'Con': {u'Values': [u'low speaker sound'], u'Id': u'Con', u'Label': None}}, u'SecondaryRatings': {u'Performance': {u'Value': 4, u'Label': None, u'ValueRange': 5, u'DisplayType': u'NORMAL', u'MaxLabel': None, u'MinLabel': None, u'ValueLabel': None, u'Id': u'Performance'}, u'Design': {u'Value': 4, u'Label': None, u'ValueRange': 5, u'DisplayType': u'NORMAL', u'MaxLabel': None, u'MinLabel': None, u'ValueLabel': None, u'Id': u'Design'}, u'Features': {u'Value': 4, u'Label': None, u'ValueRange': 5, u'DisplayType': u'NORMAL', u'MaxLabel': None, u'MinLabel': None, u'ValueLabel': None, u'Id': u'Features'}, u'Value': {u'Value': 4, u'Label': None, u'ValueRange': 5, u'DisplayType': u'NORMAL', u'MaxLabel': None, u'MinLabel': None, u'ValueLabel': None, u'Id': u'Value'}}, u'SubmissionTime': u'2017-07-24T08:11:17.000+00:00', u'ContextDataValues': {}, u'ContentLocale': u'en_IN', u'TotalNegativeFeedbackCount': 0, u'IsFeatured': False, u'IsRatingsOnly': False, u'ReviewText': u'Good display\\nGreat battery backup \\nNice performance', u'UserNickname': u'Tijo', u'ModerationStatus': u'APPROVED', u'AdditionalFieldsOrder': [], u'Helpfulness': None, u'TotalCommentCount': 0, u'IsRecommended': True, u'RatingRange': 5, u'ProductId': u'SM-J710FZDUINS', u'Rating': 5, u'Cons': None, u'Videos': [], u'ClientResponses': [], u'AuthorId': u'zdb8gaefzb1oa7mzuzoduqrv1v', u'SecondaryRatingsOrder': [u'Features', u'Performance', u'Design', u'Value'], u'ProductRecommendationIds': [], u'Id': u'166845803', u'Badges': {}}], u'Includes': {u'ProductsOrder': [u'SM-J710FZDUINS'], u'AuthorsOrder': [u'f16ovjqbubm58wa62n2s1en7b', u'tfuc62xs59xc0hmfo4acne30y', u'z6um7z6sz4dy211p3jeaxoxp06', u'zam10e6y3163d7h8b82yyg0t4a', u'zsz15lmezabquqslyika366cnc', u'zp479xt4hr2v1ayuirzs1vtdvj', u'zt52ega2kxim3rmmfsdwmuz2cm', u'zdb8gaefzb1oa7mzuzoduqrv1v'], u'Products': {u'SM-J710FZDUINS': {u'ManufacturerPartNumbers': [], u'ImageUrl': u'https://images.samsung.com/is/image/samsung/in-galaxy-j7-2016-j710fn-sm-j710fzduins-000000001-front-gold', u'ReviewIds': [], u'BrandExternalId': u'samsung', u'EANs': [u'8806088324463'], u'UPCs': [], u'Description': None, u'Brand': {u'Id': u'samsung', u'Name': u'samsung'}, u'CategoryId': u'20010500', u'ModelNumbers': [], u'Active': True, u'TotalReviewCount': 134, u'Name': u'Galaxy J7 (2016)', u'AttributesOrder': [u'BV_FE_EXPAND', u'BV_FE_FAMILY'], u'ProductPageUrl': u'https://www.samsung.com/in/smartphones/galaxy-j7-2016-j710fn/', u'Attributes': {u'BV_FE_FAMILY': {u'Values': [{u'Locale': None, u'Value': u'SM-J710FN_DD'}], u'Id': u'BV_FE_FAMILY'}, u'BV_FE_EXPAND': {u'Values': [{u'Locale': None, u'Value': u'BV_FE_FAMILY:SM-J710FN_DD'}], u'Id': u'BV_FE_EXPAND'}}, u'ReviewStatistics': {u'ContextDataDistribution': {}, u'ContextDataDistributionOrder': [], u'NotHelpfulVoteCount': 2, u'SecondaryRatingsAverages': {u'Performance': {u'ValueRange': 5, u'DisplayType': u'NORMAL', u'MaxLabel': None, u'MinLabel': None, u'Id': u'Performance', u'AverageRating': 4.2388059701492535}, u'Design': {u'ValueRange': 5, u'DisplayType': u'NORMAL', u'MaxLabel': None, u'MinLabel': None, u'Id': u'Design', u'AverageRating': 4.358208955223881}, u'Features': {u'ValueRange': 5, u'DisplayType': u'NORMAL', u'MaxLabel': None, u'MinLabel': None, u'Id': u'Features', u'AverageRating': 4.08955223880597}, u'Value': {u'ValueRange': 5, u'DisplayType': u'NORMAL', u'MaxLabel': None, u'MinLabel': None, u'Id': u'Value', u'AverageRating': 3.9328358208955225}}, u'LastSubmissionTime': u'2018-11-13T01:13:09.000+00:00', u'AverageOverallRating': 4.208955223880597, u'SecondaryRatingsAveragesOrder': [u'Features', u'Performance', u'Design', u'Value'], u'TagDistributionOrder': [], u'HelpfulVoteCount': 1538, u'OverallRatingRange': 5, u'TotalReviewCount': 134, u'NotRecommendedCount': 20, u'TagDistribution': {}, u'FeaturedReviewCount': 0, u'FirstSubmissionTime': u'2016-05-13T11:47:03.000+00:00', u'RatingDistribution': [{u'Count': 68, u'RatingValue': 5}, {u'Count': 45, u'RatingValue': 4}, {u'Count': 9, u'RatingValue': 3}, {u'Count': 7, u'RatingValue': 1}, {u'Count': 5, u'RatingValue': 2}], u'RatingsOnlyReviewCount': 0, u'RecommendedCount': 101}, u'FamilyIds': [u'SM-J710FN_DD'], u'StoryIds': [], u'FilteredReviewStatistics': {u'ContextDataDistribution': {}, u'ContextDataDistributionOrder': [], u'NotHelpfulVoteCount': 2, u'SecondaryRatingsAverages': {u'Performance': {u'ValueRange': 5, u'DisplayType': u'NORMAL', u'MaxLabel': None, u'MinLabel': None, u'Id': u'Performance', u'AverageRating': 4.2388059701492535}, u'Design': {u'ValueRange': 5, u'DisplayType': u'NORMAL', u'MaxLabel': None, u'MinLabel': None, u'Id': u'Design', u'AverageRating': 4.358208955223881}, u'Features': {u'ValueRange': 5, u'DisplayType': u'NORMAL', u'MaxLabel': None, u'MinLabel': None, u'Id': u'Features', u'AverageRating': 4.08955223880597}, u'Value': {u'ValueRange': 5, u'DisplayType': u'NORMAL', u'MaxLabel': None, u'MinLabel': None, u'Id': u'Value', u'AverageRating': 3.9328358208955225}}, u'LastSubmissionTime': u'2018-11-13T01:13:09.000+00:00', u'AverageOverallRating': 4.208955223880597, u'SecondaryRatingsAveragesOrder': [u'Features', u'Performance', u'Design', u'Value'], u'TagDistributionOrder': [], u'HelpfulVoteCount': 1538, u'OverallRatingRange': 5, u'TotalReviewCount': 134, u'NotRecommendedCount': 20, u'TagDistribution': {}, u'FeaturedReviewCount': 0, u'FirstSubmissionTime': u'2016-05-13T11:47:03.000+00:00', u'RatingDistribution': [{u'Count': 68, u'RatingValue': 5}, {u'Count': 45, u'RatingValue': 4}, {u'Count': 9, u'RatingValue': 3}, {u'Count': 7, u'RatingValue': 1}, {u'Count': 5, u'RatingValue': 2}], u'RatingsOnlyReviewCount': 0, u'RecommendedCount': 101}, u'Disabled': False, u'ISBNs': [], u'QuestionIds': [], u'Id': u'SM-J710FZDUINS'}}, u'Authors': {u'zt52ega2kxim3rmmfsdwmuz2cm': {u'ThirdPartyIds': [], u'CommentIds': [], u'LastModeratedTime': None, u'Location': None, u'BadgesOrder': [], u'SubmissionId': None, u'Photos': [], u'SecondaryRatings': {}, u'SubmissionTime': u'2017-07-27T10:04:07.000+00:00', u'ContextDataValues': {}, u'TotalReviewCount': 1, u'ContextDataValuesOrder': [], u'UserNickname': None, u'ModerationStatus': u'NONE', u'AdditionalFieldsOrder': [], u'Avatar': {}, u'AdditionalFields': {}, u'ReviewStatistics': {u'ContextDataDistribution': {}, u'ContextDataDistributionOrder': [], u'TotalReviewCount': 1, u'FeaturedReviewCount': 0, u'LastSubmissionTime': u'2017-07-27T10:04:07.000+00:00', u'RatingDistribution': [{u'Count': 1, u'RatingValue': 5}], u'AverageOverallRating': 5.0, u'SecondaryRatingsAveragesOrder': [], u'TagDistributionOrder': [], u'HelpfulVoteCount': 1, u'OverallRatingRange': 5, u'NotHelpfulVoteCount': 1, u'RecommendedCount': 1, u'TagDistribution': {}, u'SecondaryRatingsAverages': {}, u'FirstSubmissionTime': u'2017-07-27T10:04:07.000+00:00', u'RatingsOnlyReviewCount': 0, u'NotRecommendedCount': 0}, u'Videos': [], u'StoryIds': [], u'AnswerIds': [], u'ContributorRank': None, u'FilteredReviewStatistics': {u'ContextDataDistribution': {}, u'ContextDataDistributionOrder': [], u'TotalReviewCount': 1, u'FeaturedReviewCount': 0, u'LastSubmissionTime': u'2017-07-27T10:04:07.000+00:00', u'RatingDistribution': [{u'Count': 1, u'RatingValue': 5}], u'AverageOverallRating': 5.0, u'SecondaryRatingsAveragesOrder': [], u'TagDistributionOrder': [], u'HelpfulVoteCount': 1, u'OverallRatingRange': 5, u'NotHelpfulVoteCount': 1, u'RecommendedCount': 1, u'TagDistribution': {}, u'SecondaryRatingsAverages': {}, u'FirstSubmissionTime': u'2017-07-27T10:04:07.000+00:00', u'RatingsOnlyReviewCount': 0, u'NotRecommendedCount': 0}, u'ReviewIds': [], u'SecondaryRatingsOrder': [], u'ProductRecommendationIds': [], u'QuestionIds': [], u'Id': u'zt52ega2kxim3rmmfsdwmuz2cm', u'Badges': {}}, u'zsz15lmezabquqslyika366cnc': {u'ThirdPartyIds': [], u'CommentIds': [], u'LastModeratedTime': None, u'Location': None, u'BadgesOrder': [], u'SubmissionId': None, u'Photos': [], u'SecondaryRatings': {}, u'SubmissionTime': u'2017-11-06T07:49:48.000+00:00', u'ContextDataValues': {}, u'TotalReviewCount': 1, u'ContextDataValuesOrder': [], u'UserNickname': None, u'ModerationStatus': u'NONE', u'AdditionalFieldsOrder': [], u'Avatar': {}, u'AdditionalFields': {}, u'ReviewStatistics': {u'ContextDataDistribution': {}, u'ContextDataDistributionOrder': [], u'TotalReviewCount': 1, u'FeaturedReviewCount': 0, u'LastSubmissionTime': u'2017-11-06T07:49:48.000+00:00', u'AverageOverallRating': 5.0, u'SecondaryRatingsAveragesOrder': [], u'TagDistributionOrder': [], u'HelpfulVoteCount': 2, u'OverallRatingRange': 5, u'NotHelpfulVoteCount': 0, u'RecommendedCount': 1, u'TagDistribution': {}, u'SecondaryRatingsAverages': {}, u'FirstSubmissionTime': u'2017-11-06T07:49:48.000+00:00', u'RatingDistribution': [{u'Count': 1, u'RatingValue': 5}], u'RatingsOnlyReviewCount': 0, u'NotRecommendedCount': 0}, u'Videos': [], u'StoryIds': [], u'AnswerIds': [], u'ContributorRank': None, u'FilteredReviewStatistics': {u'ContextDataDistribution': {}, u'ContextDataDistributionOrder': [], u'TotalReviewCount': 1, u'FeaturedReviewCount': 0, u'LastSubmissionTime': u'2017-11-06T07:49:48.000+00:00', u'AverageOverallRating': 5.0, u'SecondaryRatingsAveragesOrder': [], u'TagDistributionOrder': [], u'HelpfulVoteCount': 2, u'OverallRatingRange': 5, u'NotHelpfulVoteCount': 0, u'RecommendedCount': 1, u'TagDistribution': {}, u'SecondaryRatingsAverages': {}, u'FirstSubmissionTime': u'2017-11-06T07:49:48.000+00:00', u'RatingDistribution': [{u'Count': 1, u'RatingValue': 5}], u'RatingsOnlyReviewCount': 0, u'NotRecommendedCount': 0}, u'ReviewIds': [], u'SecondaryRatingsOrder': [], u'ProductRecommendationIds': [], u'QuestionIds': [], u'Id': u'zsz15lmezabquqslyika366cnc', u'Badges': {}}, u'zdb8gaefzb1oa7mzuzoduqrv1v': {u'ThirdPartyIds': [], u'CommentIds': [], u'LastModeratedTime': None, u'Location': None, u'BadgesOrder': [], u'SubmissionId': None, u'Photos': [], u'SecondaryRatings': {}, u'SubmissionTime': u'2017-07-24T08:11:17.000+00:00', u'ContextDataValues': {}, u'TotalReviewCount': 1, u'ContextDataValuesOrder': [], u'UserNickname': None, u'ModerationStatus': u'NONE', u'AdditionalFieldsOrder': [], u'Avatar': {}, u'AdditionalFields': {}, u'ReviewStatistics': {u'ContextDataDistribution': {}, u'ContextDataDistributionOrder': [], u'TotalReviewCount': 1, u'FeaturedReviewCount': 0, u'LastSubmissionTime': u'2017-07-24T08:11:17.000+00:00', u'AverageOverallRating': 5.0, u'SecondaryRatingsAveragesOrder': [], u'TagDistributionOrder': [], u'HelpfulVoteCount': 0, u'OverallRatingRange': 5, u'NotHelpfulVoteCount': 0, u'NotRecommendedCount': 0, u'TagDistribution': {}, u'SecondaryRatingsAverages': {}, u'FirstSubmissionTime': u'2017-07-24T08:11:17.000+00:00', u'RatingDistribution': [{u'Count': 1, u'RatingValue': 5}], u'RatingsOnlyReviewCount': 0, u'RecommendedCount': 1}, u'Videos': [], u'StoryIds': [], u'AnswerIds': [], u'ContributorRank': None, u'FilteredReviewStatistics': {u'ContextDataDistribution': {}, u'ContextDataDistributionOrder': [], u'TotalReviewCount': 1, u'FeaturedReviewCount': 0, u'LastSubmissionTime': u'2017-07-24T08:11:17.000+00:00', u'AverageOverallRating': 5.0, u'SecondaryRatingsAveragesOrder': [], u'TagDistributionOrder': [], u'HelpfulVoteCount': 0, u'OverallRatingRange': 5, u'NotHelpfulVoteCount': 0, u'NotRecommendedCount': 0, u'TagDistribution': {}, u'SecondaryRatingsAverages': {}, u'FirstSubmissionTime': u'2017-07-24T08:11:17.000+00:00', u'RatingDistribution': [{u'Count': 1, u'RatingValue': 5}], u'RatingsOnlyReviewCount': 0, u'RecommendedCount': 1}, u'ReviewIds': [], u'SecondaryRatingsOrder': [], u'ProductRecommendationIds': [], u'QuestionIds': [], u'Id': u'zdb8gaefzb1oa7mzuzoduqrv1v', u'Badges': {}}, u'zp479xt4hr2v1ayuirzs1vtdvj': {u'ThirdPartyIds': [], u'CommentIds': [], u'LastModeratedTime': None, u'Location': None, u'BadgesOrder': [], u'SubmissionId': None, u'Photos': [], u'SecondaryRatings': {}, u'SubmissionTime': u'2017-08-20T18:07:03.000+00:00', u'ContextDataValues': {}, u'TotalReviewCount': 1, u'ContextDataValuesOrder': [], u'UserNickname': None, u'ModerationStatus': u'NONE', u'AdditionalFieldsOrder': [], u'Avatar': {}, u'AdditionalFields': {}, u'ReviewStatistics': {u'ContextDataDistribution': {}, u'ContextDataDistributionOrder': [], u'TotalReviewCount': 1, u'FeaturedReviewCount': 0, u'LastSubmissionTime': u'2017-08-20T18:07:03.000+00:00', u'AverageOverallRating': 5.0, u'SecondaryRatingsAveragesOrder': [], u'TagDistributionOrder': [], u'HelpfulVoteCount': 1, u'OverallRatingRange': 5, u'NotHelpfulVoteCount': 0, u'RecommendedCount': 0, u'TagDistribution': {}, u'SecondaryRatingsAverages': {}, u'FirstSubmissionTime': u'2017-08-20T18:07:03.000+00:00', u'RatingDistribution': [{u'Count': 1, u'RatingValue': 5}], u'RatingsOnlyReviewCount': 0, u'NotRecommendedCount': 1}, u'Videos': [], u'StoryIds': [], u'AnswerIds': [], u'ContributorRank': None, u'FilteredReviewStatistics': {u'ContextDataDistribution': {}, u'ContextDataDistributionOrder': [], u'TotalReviewCount': 1, u'FeaturedReviewCount': 0, u'LastSubmissionTime': u'2017-08-20T18:07:03.000+00:00', u'AverageOverallRating': 5.0, u'SecondaryRatingsAveragesOrder': [], u'TagDistributionOrder': [], u'HelpfulVoteCount': 1, u'OverallRatingRange': 5, u'NotHelpfulVoteCount': 0, u'RecommendedCount': 0, u'TagDistribution': {}, u'SecondaryRatingsAverages': {}, u'FirstSubmissionTime': u'2017-08-20T18:07:03.000+00:00', u'RatingDistribution': [{u'Count': 1, u'RatingValue': 5}], u'RatingsOnlyReviewCount': 0, u'NotRecommendedCount': 1}, u'ReviewIds': [], u'SecondaryRatingsOrder': [], u'ProductRecommendationIds': [], u'QuestionIds': [], u'Id': u'zp479xt4hr2v1ayuirzs1vtdvj', u'Badges': {}}, u'f16ovjqbubm58wa62n2s1en7b': {u'ThirdPartyIds': [], u'CommentIds': [], u'LastModeratedTime': u'2018-11-13T03:15:02.000+00:00', u'Location': None, u'BadgesOrder': [], u'SubmissionId': None, u'Photos': [], u'SecondaryRatings': {}, u'SubmissionTime': u'2018-11-13T01:13:09.000+00:00', u'ContextDataValues': {}, u'TotalReviewCount': 1, u'ContextDataValuesOrder': [], u'UserNickname': u'CA Chirag Sharma', u'ModerationStatus': u'APPROVED', u'AdditionalFieldsOrder': [], u'Avatar': {}, u'AdditionalFields': {}, u'ReviewStatistics': {u'ContextDataDistribution': {}, u'ContextDataDistributionOrder': [], u'RatingsOnlyReviewCount': 0, u'FeaturedReviewCount': 0, u'LastSubmissionTime': u'2018-11-13T01:13:09.000+00:00', u'AverageOverallRating': 5.0, u'SecondaryRatingsAveragesOrder': [], u'TagDistributionOrder': [], u'HelpfulVoteCount': 102, u'NotHelpfulVoteCount': 0, u'OverallRatingRange': 5, u'TotalReviewCount': 1, u'NotRecommendedCount': 0, u'TagDistribution': {}, u'SecondaryRatingsAverages': {}, u'FirstSubmissionTime': u'2018-11-13T01:13:09.000+00:00', u'RatingDistribution': [{u'Count': 1, u'RatingValue': 5}], u'RecommendedCount': 1}, u'Videos': [], u'StoryIds': [], u'AnswerIds': [], u'ContributorRank': u'NONE', u'FilteredReviewStatistics': {u'ContextDataDistribution': {}, u'ContextDataDistributionOrder': [], u'RatingsOnlyReviewCount': 0, u'FeaturedReviewCount': 0, u'LastSubmissionTime': u'2018-11-13T01:13:09.000+00:00', u'AverageOverallRating': 5.0, u'SecondaryRatingsAveragesOrder': [], u'TagDistributionOrder': [], u'HelpfulVoteCount': 102, u'NotHelpfulVoteCount': 0, u'OverallRatingRange': 5, u'TotalReviewCount': 1, u'NotRecommendedCount': 0, u'TagDistribution': {}, u'SecondaryRatingsAverages': {}, u'FirstSubmissionTime': u'2018-11-13T01:13:09.000+00:00', u'RatingDistribution': [{u'Count': 1, u'RatingValue': 5}], u'RecommendedCount': 1}, u'ReviewIds': [], u'SecondaryRatingsOrder': [], u'ProductRecommendationIds': [], u'QuestionIds': [], u'Id': u'f16ovjqbubm58wa62n2s1en7b', u'Badges': {}}, u'zam10e6y3163d7h8b82yyg0t4a': {u'ThirdPartyIds': [], u'CommentIds': [], u'LastModeratedTime': None, u'Location': None, u'BadgesOrder': [], u'SubmissionId': None, u'Photos': [], u'SecondaryRatings': {}, u'SubmissionTime': u'2017-11-27T01:48:20.000+00:00', u'ContextDataValues': {}, u'TotalReviewCount': 1, u'ContextDataValuesOrder': [], u'UserNickname': None, u'ModerationStatus': u'NONE', u'AdditionalFieldsOrder': [], u'Avatar': {}, u'AdditionalFields': {}, u'ReviewStatistics': {u'ContextDataDistribution': {}, u'ContextDataDistributionOrder': [], u'TotalReviewCount': 1, u'FeaturedReviewCount': 0, u'LastSubmissionTime': u'2017-11-27T01:48:20.000+00:00', u'AverageOverallRating': 5.0, u'SecondaryRatingsAveragesOrder': [], u'TagDistributionOrder': [], u'HelpfulVoteCount': 2, u'OverallRatingRange': 5, u'NotHelpfulVoteCount': 0, u'NotRecommendedCount': 0, u'TagDistribution': {}, u'SecondaryRatingsAverages': {}, u'FirstSubmissionTime': u'2017-11-27T01:48:20.000+00:00', u'RatingDistribution': [{u'Count': 1, u'RatingValue': 5}], u'RatingsOnlyReviewCount': 0, u'RecommendedCount': 1}, u'Videos': [], u'StoryIds': [], u'AnswerIds': [], u'ContributorRank': None, u'FilteredReviewStatistics': {u'ContextDataDistribution': {}, u'ContextDataDistributionOrder': [], u'TotalReviewCount': 1, u'FeaturedReviewCount': 0, u'LastSubmissionTime': u'2017-11-27T01:48:20.000+00:00', u'AverageOverallRating': 5.0, u'SecondaryRatingsAveragesOrder': [], u'TagDistributionOrder': [], u'HelpfulVoteCount': 2, u'OverallRatingRange': 5, u'NotHelpfulVoteCount': 0, u'NotRecommendedCount': 0, u'TagDistribution': {}, u'SecondaryRatingsAverages': {}, u'FirstSubmissionTime': u'2017-11-27T01:48:20.000+00:00', u'RatingDistribution': [{u'Count': 1, u'RatingValue': 5}], u'RatingsOnlyReviewCount': 0, u'RecommendedCount': 1}, u'ReviewIds': [], u'SecondaryRatingsOrder': [], u'ProductRecommendationIds': [], u'QuestionIds': [], u'Id': u'zam10e6y3163d7h8b82yyg0t4a', u'Badges': {}}, u'tfuc62xs59xc0hmfo4acne30y': {u'ThirdPartyIds': [], u'CommentIds': [], u'LastModeratedTime': u'2018-09-19T02:45:03.000+00:00', u'Location': None, u'BadgesOrder': [], u'SubmissionId': None, u'Photos': [], u'SecondaryRatings': {}, u'SubmissionTime': u'2018-09-19T01:23:14.000+00:00', u'ContextDataValues': {}, u'TotalReviewCount': 1, u'ContextDataValuesOrder': [], u'UserNickname': u'GAMERRJ', u'ModerationStatus': u'APPROVED', u'AdditionalFieldsOrder': [], u'Avatar': {}, u'AdditionalFields': {}, u'ReviewStatistics': {u'ContextDataDistribution': {}, u'ContextDataDistributionOrder': [], u'RatingsOnlyReviewCount': 0, u'FeaturedReviewCount': 0, u'LastSubmissionTime': u'2018-09-19T01:23:14.000+00:00', u'AverageOverallRating': 5.0, u'SecondaryRatingsAveragesOrder': [], u'TagDistributionOrder': [], u'HelpfulVoteCount': 427, u'NotHelpfulVoteCount': 0, u'OverallRatingRange': 5, u'TotalReviewCount': 1, u'NotRecommendedCount': 0, u'TagDistribution': {}, u'SecondaryRatingsAverages': {}, u'FirstSubmissionTime': u'2018-09-19T01:23:14.000+00:00', u'RatingDistribution': [{u'Count': 1, u'RatingValue': 5}], u'RecommendedCount': 1}, u'Videos': [], u'StoryIds': [], u'AnswerIds': [], u'ContributorRank': u'NONE', u'FilteredReviewStatistics': {u'ContextDataDistribution': {}, u'ContextDataDistributionOrder': [], u'RatingsOnlyReviewCount': 0, u'FeaturedReviewCount': 0, u'LastSubmissionTime': u'2018-09-19T01:23:14.000+00:00', u'AverageOverallRating': 5.0, u'SecondaryRatingsAveragesOrder': [], u'TagDistributionOrder': [], u'HelpfulVoteCount': 427, u'NotHelpfulVoteCount': 0, u'OverallRatingRange': 5, u'TotalReviewCount': 1, u'NotRecommendedCount': 0, u'TagDistribution': {}, u'SecondaryRatingsAverages': {}, u'FirstSubmissionTime': u'2018-09-19T01:23:14.000+00:00', u'RatingDistribution': [{u'Count': 1, u'RatingValue': 5}], u'RecommendedCount': 1}, u'ReviewIds': [], u'SecondaryRatingsOrder': [], u'ProductRecommendationIds': [], u'QuestionIds': [], u'Id': u'tfuc62xs59xc0hmfo4acne30y', u'Badges': {}}, u'z6um7z6sz4dy211p3jeaxoxp06': {u'ThirdPartyIds': [], u'CommentIds': [], u'LastModeratedTime': None, u'Location': None, u'BadgesOrder': [], u'SubmissionId': None, u'Photos': [], u'SecondaryRatings': {}, u'SubmissionTime': u'2018-04-06T15:23:34.000+00:00', u'ContextDataValues': {}, u'TotalReviewCount': 1, u'ContextDataValuesOrder': [], u'UserNickname': None, u'ModerationStatus': u'NONE', u'AdditionalFieldsOrder': [], u'Avatar': {}, u'AdditionalFields': {}, u'ReviewStatistics': {u'ContextDataDistribution': {}, u'ContextDataDistributionOrder': [], u'NotHelpfulVoteCount': 1, u'FeaturedReviewCount': 0, u'LastSubmissionTime': u'2018-04-06T15:23:34.000+00:00', u'AverageOverallRating': 5.0, u'SecondaryRatingsAveragesOrder': [], u'TagDistributionOrder': [], u'HelpfulVoteCount': 1002, u'OverallRatingRange': 5, u'TotalReviewCount': 1, u'NotRecommendedCount': 0, u'TagDistribution': {}, u'SecondaryRatingsAverages': {}, u'FirstSubmissionTime': u'2018-04-06T15:23:34.000+00:00', u'RatingDistribution': [{u'Count': 1, u'RatingValue': 5}], u'RatingsOnlyReviewCount': 0, u'RecommendedCount': 1}, u'Videos': [], u'StoryIds': [], u'AnswerIds': [], u'ContributorRank': None, u'FilteredReviewStatistics': {u'ContextDataDistribution': {}, u'ContextDataDistributionOrder': [], u'NotHelpfulVoteCount': 1, u'FeaturedReviewCount': 0, u'LastSubmissionTime': u'2018-04-06T15:23:34.000+00:00', u'AverageOverallRating': 5.0, u'SecondaryRatingsAveragesOrder': [], u'TagDistributionOrder': [], u'HelpfulVoteCount': 1002, u'OverallRatingRange': 5, u'TotalReviewCount': 1, u'NotRecommendedCount': 0, u'TagDistribution': {}, u'SecondaryRatingsAverages': {}, u'FirstSubmissionTime': u'2018-04-06T15:23:34.000+00:00', u'RatingDistribution': [{u'Count': 1, u'RatingValue': 5}], u'RatingsOnlyReviewCount': 0, u'RecommendedCount': 1}, u'ReviewIds': [], u'SecondaryRatingsOrder': [], u'ProductRecommendationIds': [], u'QuestionIds': [], u'Id': u'z6um7z6sz4dy211p3jeaxoxp06', u'Badges': {}}}}, u'Limit': 8, u'Offset': 0, u'TotalResults': 134, u'Id': u'q1'}, u'q0': {u'Errors': [], u'HasErrors': False, u'Locale': u'en_IN', u'Results': [{u'ManufacturerPartNumbers': [], u'ImageUrl': u'https://images.samsung.com/is/image/samsung/in-galaxy-j7-2016-j710fn-sm-j710fzduins-000000001-front-gold', u'ReviewIds': [], u'BrandExternalId': u'samsung', u'EANs': [u'8806088324463'], u'UPCs': [], u'Description': None, u'Brand': {u'Id': u'samsung', u'Name': u'samsung'}, u'CategoryId': u'20010500', u'ModelNumbers': [], u'Active': True, u'TotalReviewCount': 134, u'Name': u'Galaxy J7 (2016)', u'AttributesOrder': [u'BV_FE_EXPAND', u'BV_FE_FAMILY'], u'ProductPageUrl': u'https://www.samsung.com/in/smartphones/galaxy-j7-2016-j710fn/', u'Attributes': {u'BV_FE_FAMILY': {u'Values': [{u'Locale': None, u'Value': u'SM-J710FN_DD'}], u'Id': u'BV_FE_FAMILY'}, u'BV_FE_EXPAND': {u'Values': [{u'Locale': None, u'Value': u'BV_FE_FAMILY:SM-J710FN_DD'}], u'Id': u'BV_FE_EXPAND'}}, u'ReviewStatistics': {u'ContextDataDistribution': {}, u'ContextDataDistributionOrder': [], u'NotHelpfulVoteCount': 2, u'SecondaryRatingsAverages': {u'Performance': {u'ValueRange': 5, u'DisplayType': u'NORMAL', u'MaxLabel': None, u'MinLabel': None, u'Id': u'Performance', u'AverageRating': 4.2388059701492535}, u'Design': {u'ValueRange': 5, u'DisplayType': u'NORMAL', u'MaxLabel': None, u'MinLabel': None, u'Id': u'Design', u'AverageRating': 4.358208955223881}, u'Features': {u'ValueRange': 5, u'DisplayType': u'NORMAL', u'MaxLabel': None, u'MinLabel': None, u'Id': u'Features', u'AverageRating': 4.08955223880597}, u'Value': {u'ValueRange': 5, u'DisplayType': u'NORMAL', u'MaxLabel': None, u'MinLabel': None, u'Id': u'Value', u'AverageRating': 3.9328358208955225}}, u'LastSubmissionTime': u'2018-11-13T01:13:09.000+00:00', u'AverageOverallRating': 4.208955223880597, u'SecondaryRatingsAveragesOrder': [u'Features', u'Performance', u'Design', u'Value'], u'TagDistributionOrder': [], u'HelpfulVoteCount': 1538, u'OverallRatingRange': 5, u'TotalReviewCount': 134, u'NotRecommendedCount': 20, u'TagDistribution': {}, u'FeaturedReviewCount': 0, u'FirstSubmissionTime': u'2016-05-13T11:47:03.000+00:00', u'RatingDistribution': [{u'Count': 68, u'RatingValue': 5}, {u'Count': 45, u'RatingValue': 4}, {u'Count': 9, u'RatingValue': 3}, {u'Count': 7, u'RatingValue': 1}, {u'Count': 5, u'RatingValue': 2}], u'RatingsOnlyReviewCount': 0, u'RecommendedCount': 101}, u'FamilyIds': [u'SM-J710FN_DD'], u'StoryIds': [], u'FilteredReviewStatistics': {u'ContextDataDistribution': {}, u'ContextDataDistributionOrder': [], u'NotHelpfulVoteCount': 2, u'SecondaryRatingsAverages': {u'Performance': {u'ValueRange': 5, u'DisplayType': u'NORMAL', u'MaxLabel': None, u'MinLabel': None, u'Id': u'Performance', u'AverageRating': 4.2388059701492535}, u'Design': {u'ValueRange': 5, u'DisplayType': u'NORMAL', u'MaxLabel': None, u'MinLabel': None, u'Id': u'Design', u'AverageRating': 4.358208955223881}, u'Features': {u'ValueRange': 5, u'DisplayType': u'NORMAL', u'MaxLabel': None, u'MinLabel': None, u'Id': u'Features', u'AverageRating': 4.08955223880597}, u'Value': {u'ValueRange': 5, u'DisplayType': u'NORMAL', u'MaxLabel': None, u'MinLabel': None, u'Id': u'Value', u'AverageRating': 3.9328358208955225}}, u'LastSubmissionTime': u'2018-11-13T01:13:09.000+00:00', u'AverageOverallRating': 4.208955223880597, u'SecondaryRatingsAveragesOrder': [u'Features', u'Performance', u'Design', u'Value'], u'TagDistributionOrder': [], u'HelpfulVoteCount': 1538, u'OverallRatingRange': 5, u'TotalReviewCount': 134, u'NotRecommendedCount': 20, u'TagDistribution': {}, u'FeaturedReviewCount': 0, u'FirstSubmissionTime': u'2016-05-13T11:47:03.000+00:00', u'RatingDistribution': [{u'Count': 68, u'RatingValue': 5}, {u'Count': 45, u'RatingValue': 4}, {u'Count': 9, u'RatingValue': 3}, {u'Count': 7, u'RatingValue': 1}, {u'Count': 5, u'RatingValue': 2}], u'RatingsOnlyReviewCount': 0, u'RecommendedCount': 101}, u'Disabled': False, u'ISBNs': [], u'QuestionIds': [], u'Id': u'SM-J710FZDUINS'}], u'Includes': {}, u'Limit': 10, u'Offset': 0, u'TotalResults': 1, u'Id': u'q0'}, u'q3': {u'Errors': [], u'HasErrors': False, u'Locale': u'en_IN', u'Results': [{u'TotalPositiveFeedbackCount': 1002, u'CID': u'db4437fd-5bcf-5f49-b6bb-f487d44534e7', u'CommentIds': [], u'TotalClientResponseCount': 0, u'Pros': None, u'UserLocation': None, u'LastModeratedTime': u'2018-04-06T15:45:09.000+00:00', u'SourceClient': u'samsung-en_in', u'TagDimensionsOrder': [u'Pro', u'Con'], u'Title': u'J7 2016', u'TotalFeedbackCount': 1003, u'BadgesOrder': [], u'IsSyndicated': False, u'ContextDataValuesOrder': [], u'CampaignId': None, u'AdditionalFields': {}, u'LastModificationTime': u'2018-12-10T00:14:31.000+00:00', u'SubmissionId': u'lnqu8tycdq7xh0riy8khur95r', u'Photos': [], u'TagDimensions': {u'Pro': {u'Values': [u'Durable'], u'Id': u'Pro', u'Label': None}, u'Con': {u'Values': [u'Not high def'], u'Id': u'Con', u'Label': None}}, u'SecondaryRatings': {u'Performance': {u'Value': 5, u'Label': None, u'ValueRange': 5, u'DisplayType': u'NORMAL', u'MaxLabel': None, u'MinLabel': None, u'ValueLabel': None, u'Id': u'Performance'}, u'Design': {u'Value': 5, u'Label': None, u'ValueRange': 5, u'DisplayType': u'NORMAL', u'MaxLabel': None, u'MinLabel': None, u'ValueLabel': None, u'Id': u'Design'}, u'Features': {u'Value': 5, u'Label': None, u'ValueRange': 5, u'DisplayType': u'NORMAL', u'MaxLabel': None, u'MinLabel': None, u'ValueLabel': None, u'Id': u'Features'}, u'Value': {u'Value': 5, u'Label': None, u'ValueRange': 5, u'DisplayType': u'NORMAL', u'MaxLabel': None, u'MinLabel': None, u'ValueLabel': None, u'Id': u'Value'}}, u'SubmissionTime': u'2018-04-06T15:23:34.000+00:00', u'ContextDataValues': {}, u'ContentLocale': u'en_IN', u'TotalNegativeFeedbackCount': 1, u'IsFeatured': False, u'IsRatingsOnly': False, u'ReviewText': u'Every feature is good, however, no Android Oreo update', u'UserNickname': u'Ratandeep', u'ModerationStatus': u'APPROVED', u'AdditionalFieldsOrder': [], u'Helpfulness': 0.999002993106842, u'TotalCommentCount': 0, u'IsRecommended': True, u'RatingRange': 5, u'ProductId': u'SM-J710FZDUINS', u'Rating': 5, u'Cons': None, u'Videos': [], u'ClientResponses': [], u'AuthorId': u'z6um7z6sz4dy211p3jeaxoxp06', u'SecondaryRatingsOrder': [u'Features', u'Performance', u'Design', u'Value'], u'ProductRecommendationIds': [], u'Id': u'179420100', u'Badges': {}}], u'Includes': {u'ProductsOrder': [u'SM-J710FZDUINS'], u'AuthorsOrder': [u'z6um7z6sz4dy211p3jeaxoxp06'], u'Products': {u'SM-J710FZDUINS': {u'StoryIds': [], u'Name': u'Galaxy J7 (2016)', u'FamilyIds': [u'SM-J710FN_DD'], u'UPCs': [], u'ImageUrl': u'https://images.samsung.com/is/image/samsung/in-galaxy-j7-2016-j710fn-sm-j710fzduins-000000001-front-gold', u'ModelNumbers': [], u'Description': None, u'CategoryId': u'20010500', u'Disabled': False, u'ProductPageUrl': u'https://www.samsung.com/in/smartphones/galaxy-j7-2016-j710fn/', u'ISBNs': [], u'Brand': {u'Id': u'samsung', u'Name': u'samsung'}, u'ReviewIds': [], u'AttributesOrder': [u'BV_FE_EXPAND', u'BV_FE_FAMILY'], u'QuestionIds': [], u'Active': True, u'Attributes': {u'BV_FE_FAMILY': {u'Values': [{u'Locale': None, u'Value': u'SM-J710FN_DD'}], u'Id': u'BV_FE_FAMILY'}, u'BV_FE_EXPAND': {u'Values': [{u'Locale': None, u'Value': u'BV_FE_FAMILY:SM-J710FN_DD'}], u'Id': u'BV_FE_EXPAND'}}, u'BrandExternalId': u'samsung', u'EANs': [u'8806088324463'], u'Id': u'SM-J710FZDUINS', u'ManufacturerPartNumbers': []}}, u'Authors': {u'z6um7z6sz4dy211p3jeaxoxp06': {u'ThirdPartyIds': [], u'CommentIds': [], u'LastModeratedTime': None, u'Location': None, u'BadgesOrder': [], u'SubmissionId': None, u'Photos': [], u'SecondaryRatings': {}, u'SubmissionTime': u'2018-04-06T15:23:34.000+00:00', u'ContextDataValues': {}, u'ContextDataValuesOrder': [], u'UserNickname': None, u'ModerationStatus': u'NONE', u'AdditionalFieldsOrder': [], u'Avatar': {}, u'AdditionalFields': {}, u'Videos': [], u'StoryIds': [], u'AnswerIds': [], u'ContributorRank': None, u'ReviewIds': [], u'SecondaryRatingsOrder': [], u'ProductRecommendationIds': [], u'QuestionIds': [], u'Id': u'z6um7z6sz4dy211p3jeaxoxp06', u'Badges': {}}}}, u'Limit': 1, u'Offset': 0, u'TotalResults': 3, u'Id': u'q3'}, u'q2': {u'Errors': [], u'HasErrors': False, u'Locale': u'en_IN', u'Results': [{u'TotalPositiveFeedbackCount': 102, u'CID': u'f3c060f0-be0a-50bd-81cf-b11ad4dde937', u'CommentIds': [], u'TotalClientResponseCount': 0, u'Pros': None, u'UserLocation': None, u'LastModeratedTime': u'2018-11-13T03:15:02.000+00:00', u'SourceClient': u'samsung-en_in', u'TagDimensionsOrder': [], u'Title': u'J7 2016 is a best mobile', u'TotalFeedbackCount': 102, u'BadgesOrder': [], u'IsSyndicated': False, u'ContextDataValuesOrder': [], u'CampaignId': u'BV_REVIEW_DISPLAY', u'AdditionalFields': {}, u'LastModificationTime': u'2018-12-23T17:10:38.000+00:00', u'SubmissionId': u'slnuk1x86vdys7j1c7v3p74im', u'Photos': [], u'TagDimensions': {}, u'SecondaryRatings': {u'Performance': {u'Value': 5, u'Label': None, u'ValueRange': 5, u'DisplayType': u'NORMAL', u'MaxLabel': None, u'MinLabel': None, u'ValueLabel': None, u'Id': u'Performance'}, u'Design': {u'Value': 4, u'Label': None, u'ValueRange': 5, u'DisplayType': u'NORMAL', u'MaxLabel': None, u'MinLabel': None, u'ValueLabel': None, u'Id': u'Design'}, u'Features': {u'Value': 4, u'Label': None, u'ValueRange': 5, u'DisplayType': u'NORMAL', u'MaxLabel': None, u'MinLabel': None, u'ValueLabel': None, u'Id': u'Features'}, u'Value': {u'Value': 4, u'Label': None, u'ValueRange': 5, u'DisplayType': u'NORMAL', u'MaxLabel': None, u'MinLabel': None, u'ValueLabel': None, u'Id': u'Value'}}, u'SubmissionTime': u'2018-11-13T01:13:09.000+00:00', u'ContextDataValues': {}, u'ContentLocale': u'en_IN', u'TotalNegativeFeedbackCount': 0, u'IsFeatured': False, u'IsRatingsOnly': False, u'ReviewText': u'Very smooth and fast running and battery backup is very fast', u'UserNickname': u'CA Chirag Sharma', u'ModerationStatus': u'APPROVED', u'AdditionalFieldsOrder': [], u'Helpfulness': 1.0, u'TotalCommentCount': 0, u'IsRecommended': True, u'RatingRange': 5, u'ProductId': u'SM-J710FZDUINS', u'Rating': 5, u'Cons': None, u'Videos': [], u'ClientResponses': [], u'AuthorId': u'f16ovjqbubm58wa62n2s1en7b', u'SecondaryRatingsOrder': [u'Features', u'Performance', u'Design', u'Value'], u'ProductRecommendationIds': [], u'Id': u'183481066', u'Badges': {}}], u'Includes': {}, u'Limit': 1, u'Offset': 0, u'TotalResults': 134, u'Id': u'q2'}, u'q4': {u'Errors': [{u'Message': u'Illegal empty limit string: ', u'Code': u'ERROR_PARAM_INVALID_LIMIT'}], u'HasErrors': True, u'Locale': u'en_US', u'Results': [], u'Includes': {}, u'Limit': 0, u'Offset': 0, u'TotalResults': 0, u'Id': u'q4'}}, u'TotalRequests': 5, u'SuccessfulRequests': 4, u'FailedRequests': 1}\n"
     ]
    }
   ],
   "source": [
    "import urllib, json\n",
    "url = \"https://api.bazaarvoice.com/data/batch.json?passkey=caGz3Lh4mJONU0X59qHTQJCG7XsK4b37wJcZLfsOcz8gE&apiversion=5.5&displaycode=20554-en_in&resource.q0=products&filter.q0=id%3Aeq%3ASM-J710FZDUINS&stats.q0=reviews&filteredstats.q0=reviews&filter_reviews.q0=contentlocale%3Aeq%3Aen*%2Cen_IN&filter_reviewcomments.q0=contentlocale%3Aeq%3Aen*%2Cen_IN&resource.q1=reviews&filter.q1=isratingsonly%3Aeq%3Afalse&filter.q1=productid%3Aeq%3ASM-J710FZDUINS&filter.q1=contentlocale%3Aeq%3Aen*%2Cen_IN&sort.q1=rating%3Adesc&stats.q1=reviews&filteredstats.q1=reviews&include.q1=authors%2Cproducts%2Ccomments&filter_reviews.q1=contentlocale%3Aeq%3Aen*%2Cen_IN&filter_reviewcomments.q1=contentlocale%3Aeq%3Aen*%2Cen_IN&filter_comments.q1=contentlocale%3Aeq%3Aen*%2Cen_IN&limit.q1=8&offset.q1=0&limit_comments.q1=3&resource.q2=reviews&filter.q2=productid%3Aeq%3ASM-J710FZDUINS&filter.q2=contentlocale%3Aeq%3Aen*%2Cen_IN&limit.q2=1&resource.q3=reviews&filter.q3=productid%3Aeq%3ASM-J710FZDUINS&filter.q3=isratingsonly%3Aeq%3Afalse&filter.q3=issyndicated%3Aeq%3Afalse&filter.q3=rating%3Agt%3A3&filter.q3=totalpositivefeedbackcount%3Agte%3A3&filter.q3=contentlocale%3Aeq%3Aen*%2Cen_IN&sort.q3=totalpositivefeedbackcount%3Adesc&include.q3=authors%2Creviews%2Cproducts&filter_reviews.q3=contentlocale%3Aeq%3Aen*%2Cen_IN&limit.q3=1&resource.q4=reviews&filter.q4=productid%3Aeq%3ASM-J710FZDUINS&filter.q4=isratingsonly%3Aeq%3Afalse&filter.q4=issyndicated%3Aeq%3Afalse&filter.q4=rating%3Alte%3A3&filter.q4=totalpositivefeedbackcount%3Agte%3A3&filter.q4=contentlocale%3Aeq%3Aen*%2Cen_IN&sort.q4=totalpositivefeedbackcount%3Adesc&include.q4=authors%2Creviews%2Cproducts&filter_reviews.q4=contentlocale%3Aeq%3Aen*%2Cen_IN&limit.q4\"\n",
    "response = urllib.urlopen(url)\n",
    "data = json.loads(response.read())\n",
    "#r = request.get(url,)\n",
    "print data"
   ]
  },
  {
   "cell_type": "code",
   "execution_count": 717,
   "metadata": {},
   "outputs": [
    {
     "name": "stdout",
     "output_type": "stream",
     "text": [
      "[u'BatchedResultsOrder', u'Errors', u'HasErrors', u'BatchedResults', u'TotalRequests', u'SuccessfulRequests', u'FailedRequests']\n"
     ]
    }
   ],
   "source": [
    "print data.keys()"
   ]
  },
  {
   "cell_type": "code",
   "execution_count": 718,
   "metadata": {},
   "outputs": [],
   "source": [
    "count=0"
   ]
  },
  {
   "cell_type": "code",
   "execution_count": 719,
   "metadata": {
    "scrolled": false
   },
   "outputs": [
    {
     "name": "stdout",
     "output_type": "stream",
     "text": [
      "1\n",
      "Very smooth and fast running and battery backup is very fast\n",
      "2\n",
      "I have been using this phone for a year now and i didn't found any problem with the phone.\r\n",
      "Very nice phone i am very happy.\n",
      "3\n",
      "Every feature is good, however, no Android Oreo update\n",
      "4\n",
      "Awsome performance, after naugat update it&#039;s like charm using this device. Always ready to perform. Reliable radio device . I recommend. Build quality also very good. Always choose sAmoled product of samsung . Because it deliver what you pay. Thanks.\n",
      "5\n",
      "very good mobile.good camara .good display.long battary backup\n",
      "6\n",
      "Everything is brilliant. Design, picture quality, Display quality, performance is at the awesome level. But no LED notification. :( BUt that would not bother. J7 2016 is a great phone can be used.\n",
      "7\n",
      "I am using this phone from a long time. Camera is amazing and have f 1.9 both front and back and front camera comes with a selfi flash. Camera quality is just decent , your first photography with this phone will make u feel awesome , u r not going to got this in similar price range phones . I got Exynos 7870 , butter like performance even with high end games and no heating issue. The combination of 3300mAh battery abd 14nm CPU , make your stay in power upto 2 days with average uses . sAmoled screen made images , videos etc. looks more sharp and very good colour reproduction.  Although phone lack with some basic features like no auto brightness sensor , low sound with built in speaker but these things doesn&#039;t matter more . Overall phone have awesome buit in quality in all respect. Good look with metal frame , And trust and service quality of Samsung. And most important this phone come in good price range.\n",
      "8\n",
      "Good display\n",
      "Great battery backup \n",
      "Nice performance\n"
     ]
    },
    {
     "ename": "IndexError",
     "evalue": "list index out of range",
     "output_type": "error",
     "traceback": [
      "\u001b[0;31m---------------------------------------------------------------------------\u001b[0m",
      "\u001b[0;31mIndexError\u001b[0m                                Traceback (most recent call last)",
      "\u001b[0;32m<ipython-input-719-62eccb841c78>\u001b[0m in \u001b[0;36m<module>\u001b[0;34m()\u001b[0m\n\u001b[1;32m      1\u001b[0m \u001b[0;32mfor\u001b[0m \u001b[0mz\u001b[0m \u001b[0;32min\u001b[0m \u001b[0mrange\u001b[0m\u001b[0;34m(\u001b[0m\u001b[0;36m0\u001b[0m\u001b[0;34m,\u001b[0m\u001b[0;36m24\u001b[0m\u001b[0;34m)\u001b[0m\u001b[0;34m:\u001b[0m\u001b[0;34m\u001b[0m\u001b[0m\n\u001b[0;32m----> 2\u001b[0;31m     \u001b[0mxxx\u001b[0m\u001b[0;34m=\u001b[0m\u001b[0mdata\u001b[0m\u001b[0;34m[\u001b[0m\u001b[0;34m'BatchedResults'\u001b[0m\u001b[0;34m]\u001b[0m\u001b[0;34m[\u001b[0m\u001b[0;34m'q1'\u001b[0m\u001b[0;34m]\u001b[0m\u001b[0;34m[\u001b[0m\u001b[0;34m'Results'\u001b[0m\u001b[0;34m]\u001b[0m\u001b[0;34m[\u001b[0m\u001b[0mz\u001b[0m\u001b[0;34m]\u001b[0m\u001b[0;34m[\u001b[0m\u001b[0;34m'ReviewText'\u001b[0m\u001b[0;34m]\u001b[0m\u001b[0;34m\u001b[0m\u001b[0m\n\u001b[0m\u001b[1;32m      3\u001b[0m     \u001b[0mcount\u001b[0m\u001b[0;34m=\u001b[0m\u001b[0mcount\u001b[0m\u001b[0;34m+\u001b[0m\u001b[0;36m1\u001b[0m\u001b[0;34m\u001b[0m\u001b[0m\n\u001b[1;32m      4\u001b[0m     \u001b[0;32mprint\u001b[0m \u001b[0mcount\u001b[0m\u001b[0;34m\u001b[0m\u001b[0m\n\u001b[1;32m      5\u001b[0m     \u001b[0;32mprint\u001b[0m \u001b[0mxxx\u001b[0m\u001b[0;34m\u001b[0m\u001b[0m\n",
      "\u001b[0;31mIndexError\u001b[0m: list index out of range"
     ]
    }
   ],
   "source": [
    "for z in range(0,24):\n",
    "    xxx=data['BatchedResults']['q1']['Results'][z]['ReviewText']\n",
    "    count=count+1\n",
    "    print count\n",
    "    print xxx"
   ]
  },
  {
   "cell_type": "code",
   "execution_count": 720,
   "metadata": {},
   "outputs": [
    {
     "name": "stdout",
     "output_type": "stream",
     "text": [
      "J7 2016 is a best mobile\n",
      "Good built quality, long lasting battery\n",
      "J7 2016\n",
      "One of the best galaxy j7 2016\n",
      "ram equal to another phones 3 gb\n",
      "an Awesome smartphone.\n",
      "Overall Amaze U\n",
      "Value for money\n"
     ]
    },
    {
     "ename": "IndexError",
     "evalue": "list index out of range",
     "output_type": "error",
     "traceback": [
      "\u001b[0;31m---------------------------------------------------------------------------\u001b[0m",
      "\u001b[0;31mIndexError\u001b[0m                                Traceback (most recent call last)",
      "\u001b[0;32m<ipython-input-720-4ab1ad7ad134>\u001b[0m in \u001b[0;36m<module>\u001b[0;34m()\u001b[0m\n\u001b[1;32m      1\u001b[0m \u001b[0;32mfor\u001b[0m \u001b[0mz\u001b[0m \u001b[0;32min\u001b[0m \u001b[0mrange\u001b[0m\u001b[0;34m(\u001b[0m\u001b[0;36m0\u001b[0m\u001b[0;34m,\u001b[0m\u001b[0;36m24\u001b[0m\u001b[0;34m)\u001b[0m\u001b[0;34m:\u001b[0m\u001b[0;34m\u001b[0m\u001b[0m\n\u001b[0;32m----> 2\u001b[0;31m     \u001b[0mYYY\u001b[0m\u001b[0;34m=\u001b[0m\u001b[0mdata\u001b[0m\u001b[0;34m[\u001b[0m\u001b[0;34m'BatchedResults'\u001b[0m\u001b[0;34m]\u001b[0m\u001b[0;34m[\u001b[0m\u001b[0;34m'q1'\u001b[0m\u001b[0;34m]\u001b[0m\u001b[0;34m[\u001b[0m\u001b[0;34m'Results'\u001b[0m\u001b[0;34m]\u001b[0m\u001b[0;34m[\u001b[0m\u001b[0mz\u001b[0m\u001b[0;34m]\u001b[0m\u001b[0;34m[\u001b[0m\u001b[0;34m'Title'\u001b[0m\u001b[0;34m]\u001b[0m\u001b[0;34m\u001b[0m\u001b[0m\n\u001b[0m\u001b[1;32m      3\u001b[0m     \u001b[0mcount\u001b[0m\u001b[0;34m=\u001b[0m\u001b[0mcount\u001b[0m\u001b[0;34m+\u001b[0m\u001b[0;36m1\u001b[0m\u001b[0;34m\u001b[0m\u001b[0m\n\u001b[1;32m      4\u001b[0m     \u001b[0;31m#print count\u001b[0m\u001b[0;34m\u001b[0m\u001b[0;34m\u001b[0m\u001b[0m\n\u001b[1;32m      5\u001b[0m     \u001b[0;32mprint\u001b[0m \u001b[0mYYY\u001b[0m\u001b[0;34m\u001b[0m\u001b[0m\n",
      "\u001b[0;31mIndexError\u001b[0m: list index out of range"
     ]
    }
   ],
   "source": [
    "for z in range(0,24):\n",
    "    YYY=data['BatchedResults']['q1']['Results'][z]['Title']\n",
    "    count=count+1\n",
    "    #print count\n",
    "    print YYY"
   ]
  },
  {
   "cell_type": "code",
   "execution_count": 721,
   "metadata": {},
   "outputs": [
    {
     "name": "stdout",
     "output_type": "stream",
     "text": [
      "CA Chirag Sharma\n",
      "GAMERRJ\n",
      "Ratandeep\n",
      "S.Santra\n",
      "sree\n",
      "Osaaa\n",
      "Ashutosh Kumar Singh\n",
      "Tijo\n"
     ]
    },
    {
     "ename": "IndexError",
     "evalue": "list index out of range",
     "output_type": "error",
     "traceback": [
      "\u001b[0;31m---------------------------------------------------------------------------\u001b[0m",
      "\u001b[0;31mIndexError\u001b[0m                                Traceback (most recent call last)",
      "\u001b[0;32m<ipython-input-721-970615d053a3>\u001b[0m in \u001b[0;36m<module>\u001b[0;34m()\u001b[0m\n\u001b[1;32m      1\u001b[0m \u001b[0;32mfor\u001b[0m \u001b[0mz\u001b[0m \u001b[0;32min\u001b[0m \u001b[0mrange\u001b[0m\u001b[0;34m(\u001b[0m\u001b[0;36m0\u001b[0m\u001b[0;34m,\u001b[0m\u001b[0;36m24\u001b[0m\u001b[0;34m)\u001b[0m\u001b[0;34m:\u001b[0m\u001b[0;34m\u001b[0m\u001b[0m\n\u001b[0;32m----> 2\u001b[0;31m     \u001b[0mPPP\u001b[0m\u001b[0;34m=\u001b[0m\u001b[0mdata\u001b[0m\u001b[0;34m[\u001b[0m\u001b[0;34m'BatchedResults'\u001b[0m\u001b[0;34m]\u001b[0m\u001b[0;34m[\u001b[0m\u001b[0;34m'q1'\u001b[0m\u001b[0;34m]\u001b[0m\u001b[0;34m[\u001b[0m\u001b[0;34m'Results'\u001b[0m\u001b[0;34m]\u001b[0m\u001b[0;34m[\u001b[0m\u001b[0mz\u001b[0m\u001b[0;34m]\u001b[0m\u001b[0;34m[\u001b[0m\u001b[0;34m'UserNickname'\u001b[0m\u001b[0;34m]\u001b[0m\u001b[0;34m\u001b[0m\u001b[0m\n\u001b[0m\u001b[1;32m      3\u001b[0m     \u001b[0mcount\u001b[0m\u001b[0;34m=\u001b[0m\u001b[0mcount\u001b[0m\u001b[0;34m+\u001b[0m\u001b[0;36m1\u001b[0m\u001b[0;34m\u001b[0m\u001b[0m\n\u001b[1;32m      4\u001b[0m     \u001b[0;31m#print count\u001b[0m\u001b[0;34m\u001b[0m\u001b[0;34m\u001b[0m\u001b[0m\n\u001b[1;32m      5\u001b[0m     \u001b[0;32mprint\u001b[0m \u001b[0mPPP\u001b[0m\u001b[0;34m\u001b[0m\u001b[0m\n",
      "\u001b[0;31mIndexError\u001b[0m: list index out of range"
     ]
    }
   ],
   "source": [
    "for z in range(0,24):\n",
    "    PPP=data['BatchedResults']['q1']['Results'][z]['UserNickname']\n",
    "    count=count+1\n",
    "    #print count\n",
    "    print PPP"
   ]
  },
  {
   "cell_type": "code",
   "execution_count": 722,
   "metadata": {
    "scrolled": true
   },
   "outputs": [
    {
     "name": "stdout",
     "output_type": "stream",
     "text": [
      "SM-J710FZDUINS\n",
      "SM-J710FZDUINS\n",
      "SM-J710FZDUINS\n",
      "SM-J710FZDUINS\n",
      "SM-J710FZDUINS\n",
      "SM-J710FZDUINS\n",
      "SM-J710FZDUINS\n",
      "SM-J710FZDUINS\n"
     ]
    },
    {
     "ename": "IndexError",
     "evalue": "list index out of range",
     "output_type": "error",
     "traceback": [
      "\u001b[0;31m---------------------------------------------------------------------------\u001b[0m",
      "\u001b[0;31mIndexError\u001b[0m                                Traceback (most recent call last)",
      "\u001b[0;32m<ipython-input-722-f54517b056ac>\u001b[0m in \u001b[0;36m<module>\u001b[0;34m()\u001b[0m\n\u001b[1;32m      1\u001b[0m \u001b[0;32mfor\u001b[0m \u001b[0mz\u001b[0m \u001b[0;32min\u001b[0m \u001b[0mrange\u001b[0m\u001b[0;34m(\u001b[0m\u001b[0;36m0\u001b[0m\u001b[0;34m,\u001b[0m\u001b[0;36m100\u001b[0m\u001b[0;34m)\u001b[0m\u001b[0;34m:\u001b[0m\u001b[0;34m\u001b[0m\u001b[0m\n\u001b[0;32m----> 2\u001b[0;31m     \u001b[0mProduct_Id\u001b[0m\u001b[0;34m=\u001b[0m\u001b[0mdata\u001b[0m\u001b[0;34m[\u001b[0m\u001b[0;34m'BatchedResults'\u001b[0m\u001b[0;34m]\u001b[0m\u001b[0;34m[\u001b[0m\u001b[0;34m'q1'\u001b[0m\u001b[0;34m]\u001b[0m\u001b[0;34m[\u001b[0m\u001b[0;34m'Results'\u001b[0m\u001b[0;34m]\u001b[0m\u001b[0;34m[\u001b[0m\u001b[0mz\u001b[0m\u001b[0;34m]\u001b[0m\u001b[0;34m[\u001b[0m\u001b[0;34m'ProductId'\u001b[0m\u001b[0;34m]\u001b[0m\u001b[0;34m\u001b[0m\u001b[0m\n\u001b[0m\u001b[1;32m      3\u001b[0m     \u001b[0;31m#print count\u001b[0m\u001b[0;34m\u001b[0m\u001b[0;34m\u001b[0m\u001b[0m\n\u001b[1;32m      4\u001b[0m     \u001b[0;32mprint\u001b[0m \u001b[0mProduct_Id\u001b[0m\u001b[0;34m\u001b[0m\u001b[0m\n",
      "\u001b[0;31mIndexError\u001b[0m: list index out of range"
     ]
    }
   ],
   "source": [
    "for z in range(0,100):\n",
    "    Product_Id=data['BatchedResults']['q1']['Results'][z]['ProductId']\n",
    "    #print count\n",
    "    print Product_Id"
   ]
  },
  {
   "cell_type": "code",
   "execution_count": 723,
   "metadata": {},
   "outputs": [
    {
     "name": "stdout",
     "output_type": "stream",
     "text": [
      "2018-11-13T01:13:09.000+00:00\n",
      "2018-09-19T01:23:14.000+00:00\n",
      "2018-04-06T15:23:34.000+00:00\n",
      "2017-11-27T01:48:20.000+00:00\n",
      "2017-11-06T07:49:48.000+00:00\n",
      "2017-08-20T18:07:03.000+00:00\n",
      "2017-07-27T10:04:07.000+00:00\n",
      "2017-07-24T08:11:17.000+00:00\n"
     ]
    },
    {
     "ename": "IndexError",
     "evalue": "list index out of range",
     "output_type": "error",
     "traceback": [
      "\u001b[0;31m---------------------------------------------------------------------------\u001b[0m",
      "\u001b[0;31mIndexError\u001b[0m                                Traceback (most recent call last)",
      "\u001b[0;32m<ipython-input-723-6f65eca229e5>\u001b[0m in \u001b[0;36m<module>\u001b[0;34m()\u001b[0m\n\u001b[1;32m      1\u001b[0m \u001b[0;32mfor\u001b[0m \u001b[0mz\u001b[0m \u001b[0;32min\u001b[0m \u001b[0mrange\u001b[0m\u001b[0;34m(\u001b[0m\u001b[0;36m0\u001b[0m\u001b[0;34m,\u001b[0m\u001b[0;36m100\u001b[0m\u001b[0;34m)\u001b[0m\u001b[0;34m:\u001b[0m\u001b[0;34m\u001b[0m\u001b[0m\n\u001b[0;32m----> 2\u001b[0;31m     \u001b[0mSubmission_Time\u001b[0m\u001b[0;34m=\u001b[0m\u001b[0mdata\u001b[0m\u001b[0;34m[\u001b[0m\u001b[0;34m'BatchedResults'\u001b[0m\u001b[0;34m]\u001b[0m\u001b[0;34m[\u001b[0m\u001b[0;34m'q1'\u001b[0m\u001b[0;34m]\u001b[0m\u001b[0;34m[\u001b[0m\u001b[0;34m'Results'\u001b[0m\u001b[0;34m]\u001b[0m\u001b[0;34m[\u001b[0m\u001b[0mz\u001b[0m\u001b[0;34m]\u001b[0m\u001b[0;34m[\u001b[0m\u001b[0;34m'SubmissionTime'\u001b[0m\u001b[0;34m]\u001b[0m\u001b[0;34m\u001b[0m\u001b[0m\n\u001b[0m\u001b[1;32m      3\u001b[0m     \u001b[0;31m#print count\u001b[0m\u001b[0;34m\u001b[0m\u001b[0;34m\u001b[0m\u001b[0m\n\u001b[1;32m      4\u001b[0m     \u001b[0;32mprint\u001b[0m \u001b[0mSubmission_Time\u001b[0m\u001b[0;34m\u001b[0m\u001b[0m\n",
      "\u001b[0;31mIndexError\u001b[0m: list index out of range"
     ]
    }
   ],
   "source": [
    "for z in range(0,100):\n",
    "    Submission_Time=data['BatchedResults']['q1']['Results'][z]['SubmissionTime']\n",
    "    #print count\n",
    "    print Submission_Time"
   ]
  },
  {
   "cell_type": "code",
   "execution_count": 725,
   "metadata": {
    "scrolled": true
   },
   "outputs": [
    {
     "name": "stdout",
     "output_type": "stream",
     "text": [
      "5\n",
      "5\n",
      "5\n",
      "5\n",
      "5\n",
      "5\n",
      "5\n",
      "5\n"
     ]
    },
    {
     "ename": "IndexError",
     "evalue": "list index out of range",
     "output_type": "error",
     "traceback": [
      "\u001b[0;31m---------------------------------------------------------------------------\u001b[0m",
      "\u001b[0;31mIndexError\u001b[0m                                Traceback (most recent call last)",
      "\u001b[0;32m<ipython-input-725-6d5ab77a171a>\u001b[0m in \u001b[0;36m<module>\u001b[0;34m()\u001b[0m\n\u001b[1;32m      1\u001b[0m \u001b[0;32mfor\u001b[0m \u001b[0mz\u001b[0m \u001b[0;32min\u001b[0m \u001b[0mrange\u001b[0m\u001b[0;34m(\u001b[0m\u001b[0;36m0\u001b[0m\u001b[0;34m,\u001b[0m\u001b[0;36m100\u001b[0m\u001b[0;34m)\u001b[0m\u001b[0;34m:\u001b[0m\u001b[0;34m\u001b[0m\u001b[0m\n\u001b[0;32m----> 2\u001b[0;31m     \u001b[0mRating\u001b[0m\u001b[0;34m=\u001b[0m\u001b[0mdata\u001b[0m\u001b[0;34m[\u001b[0m\u001b[0;34m'BatchedResults'\u001b[0m\u001b[0;34m]\u001b[0m\u001b[0;34m[\u001b[0m\u001b[0;34m'q1'\u001b[0m\u001b[0;34m]\u001b[0m\u001b[0;34m[\u001b[0m\u001b[0;34m'Results'\u001b[0m\u001b[0;34m]\u001b[0m\u001b[0;34m[\u001b[0m\u001b[0mz\u001b[0m\u001b[0;34m]\u001b[0m\u001b[0;34m[\u001b[0m\u001b[0;34m'Rating'\u001b[0m\u001b[0;34m]\u001b[0m\u001b[0;34m\u001b[0m\u001b[0m\n\u001b[0m\u001b[1;32m      3\u001b[0m     \u001b[0;31m#print count\u001b[0m\u001b[0;34m\u001b[0m\u001b[0;34m\u001b[0m\u001b[0m\n\u001b[1;32m      4\u001b[0m     \u001b[0;32mprint\u001b[0m \u001b[0mRating\u001b[0m\u001b[0;34m\u001b[0m\u001b[0m\n",
      "\u001b[0;31mIndexError\u001b[0m: list index out of range"
     ]
    }
   ],
   "source": [
    "for z in range(0,100):\n",
    "    Rating=data['BatchedResults']['q1']['Results'][z]['Rating']\n",
    "    #print count\n",
    "    print Rating"
   ]
  },
  {
   "cell_type": "code",
   "execution_count": null,
   "metadata": {},
   "outputs": [],
   "source": []
  },
  {
   "cell_type": "code",
   "execution_count": null,
   "metadata": {},
   "outputs": [],
   "source": []
  },
  {
   "cell_type": "code",
   "execution_count": null,
   "metadata": {},
   "outputs": [],
   "source": []
  }
 ],
 "metadata": {
  "kernelspec": {
   "display_name": "Python 2",
   "language": "python",
   "name": "python2"
  },
  "language_info": {
   "codemirror_mode": {
    "name": "ipython",
    "version": 2
   },
   "file_extension": ".py",
   "mimetype": "text/x-python",
   "name": "python",
   "nbconvert_exporter": "python",
   "pygments_lexer": "ipython2",
   "version": "2.7.15"
  }
 },
 "nbformat": 4,
 "nbformat_minor": 2
}
